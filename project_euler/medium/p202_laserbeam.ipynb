{
 "cells": [
  {
   "cell_type": "markdown",
   "source": [
    "# Laserbeam\n",
    "\n",
    "Three mirrors are arranged in the shape of an equilateral triangle, with their reflective surfaces pointing inwards. There is an infinitesimal gap at each vertex of the triangle through which a laser beam may pass.\n",
    "\n",
    "Label the vertices A, B and C. There are 2 ways in which a laser beam may enter vertex C, bounce off 11 surfaces, then exit through the same vertex, with one way being the reverse of the other.\n",
    "\n",
    "There are 80840 ways in which a laser beam may enter vertex C, bounce off 1000001 surfaces, then exit through the same vertex.\n",
    "\n",
    "Write a python program to calculate how many ways can a laser beam enter at vertex C, bounce off 12017639147 surfaces, then exit through the same vertex?"
   ],
   "metadata": {
    "collapsed": false
   }
  },
  {
   "cell_type": "markdown",
   "source": [
    "## Results"
   ],
   "metadata": {
    "collapsed": false
   }
  },
  {
   "cell_type": "code",
   "execution_count": null,
   "outputs": [],
   "source": [
    "def count_laser_paths(surfaces):\n",
    "    if surfaces == 1:\n",
    "        return 1\n",
    "    elif surfaces == 2:\n",
    "        return 2\n",
    "    else:\n",
    "        return 2 * count_laser_paths(surfaces - 1) - count_laser_paths(surfaces - 2)\n",
    "\n",
    "surfaces = 12017639147\n",
    "num_ways = count_laser_paths(surfaces)\n",
    "print(f\"The number of ways is: {num_ways}\")"
   ],
   "metadata": {
    "collapsed": false,
    "is_executing": true,
    "ExecuteTime": {
     "start_time": "2023-06-08T00:28:15.181224800Z"
    }
   }
  },
  {
   "cell_type": "markdown",
   "source": [
    "## Correctness"
   ],
   "metadata": {
    "collapsed": false
   }
  },
  {
   "cell_type": "code",
   "execution_count": null,
   "outputs": [],
   "source": [
    "import unittest\n",
    "import solutions\n",
    "\n",
    "class Testing(unittest.TestCase):\n",
    "\n",
    "    def test_chatgpt(self):\n",
    "        self.assertEqual(num_ways, solutions.p202)\n",
    "\n",
    "    def test_codex(self):\n",
    "        pass\n",
    "\n",
    "unittest.main(argv=[''], verbosity=2, exit=False)"
   ],
   "metadata": {
    "collapsed": false
   }
  },
  {
   "cell_type": "markdown",
   "source": [
    "## Notes\n",
    "\n",
    "Wrong approach, times out."
   ],
   "metadata": {
    "collapsed": false
   }
  }
 ],
 "metadata": {
  "kernelspec": {
   "display_name": "Python 3",
   "language": "python",
   "name": "python3"
  },
  "language_info": {
   "codemirror_mode": {
    "name": "ipython",
    "version": 2
   },
   "file_extension": ".py",
   "mimetype": "text/x-python",
   "name": "python",
   "nbconvert_exporter": "python",
   "pygments_lexer": "ipython2",
   "version": "2.7.6"
  }
 },
 "nbformat": 4,
 "nbformat_minor": 0
}
