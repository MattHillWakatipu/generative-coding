{
 "cells": [
  {
   "cell_type": "markdown",
   "source": [
    "# Robot Walks\n",
    "\n",
    "A robot moves in a series of one-fifth circular arcs (72°), with a free choice of a clockwise or an anticlockwise arc for each step, but no turning on the spot.\n",
    "\n",
    "Given that the robot starts facing North, how many journeys of 70 arcs in length can it take that return it, after the final arc, to its starting position?\n",
    "(Any arc may be traversed multiple times.)"
   ],
   "metadata": {
    "collapsed": false
   }
  },
  {
   "cell_type": "markdown",
   "source": [
    "## Results"
   ],
   "metadata": {
    "collapsed": false
   }
  },
  {
   "cell_type": "code",
   "execution_count": 1,
   "outputs": [
    {
     "ename": "KeyboardInterrupt",
     "evalue": "",
     "output_type": "error",
     "traceback": [
      "\u001B[1;31m---------------------------------------------------------------------------\u001B[0m",
      "\u001B[1;31mKeyboardInterrupt\u001B[0m                         Traceback (most recent call last)",
      "Cell \u001B[1;32mIn[1], line 12\u001B[0m\n\u001B[0;32m      7\u001B[0m         \u001B[38;5;28;01mreturn\u001B[39;00m helper(clockwise_direction, remaining_arcs \u001B[38;5;241m-\u001B[39m \u001B[38;5;241m1\u001B[39m, starting_direction) \u001B[38;5;241m+\u001B[39m \\\n\u001B[0;32m      8\u001B[0m                helper(anticlockwise_direction, remaining_arcs \u001B[38;5;241m-\u001B[39m \u001B[38;5;241m1\u001B[39m, starting_direction)\n\u001B[0;32m     10\u001B[0m     \u001B[38;5;28;01mreturn\u001B[39;00m helper(\u001B[38;5;241m0\u001B[39m, \u001B[38;5;241m70\u001B[39m, \u001B[38;5;241m0\u001B[39m)\n\u001B[1;32m---> 12\u001B[0m journeys \u001B[38;5;241m=\u001B[39m \u001B[43mcount_journeys\u001B[49m\u001B[43m(\u001B[49m\u001B[43m)\u001B[49m\n\u001B[0;32m     13\u001B[0m \u001B[38;5;28mprint\u001B[39m(\u001B[38;5;124m\"\u001B[39m\u001B[38;5;124mNumber of journeys:\u001B[39m\u001B[38;5;124m\"\u001B[39m, journeys)\n",
      "Cell \u001B[1;32mIn[1], line 10\u001B[0m, in \u001B[0;36mcount_journeys\u001B[1;34m()\u001B[0m\n\u001B[0;32m      6\u001B[0m     anticlockwise_direction \u001B[38;5;241m=\u001B[39m (current_direction \u001B[38;5;241m-\u001B[39m \u001B[38;5;241m72\u001B[39m) \u001B[38;5;241m%\u001B[39m \u001B[38;5;241m360\u001B[39m\n\u001B[0;32m      7\u001B[0m     \u001B[38;5;28;01mreturn\u001B[39;00m helper(clockwise_direction, remaining_arcs \u001B[38;5;241m-\u001B[39m \u001B[38;5;241m1\u001B[39m, starting_direction) \u001B[38;5;241m+\u001B[39m \\\n\u001B[0;32m      8\u001B[0m            helper(anticlockwise_direction, remaining_arcs \u001B[38;5;241m-\u001B[39m \u001B[38;5;241m1\u001B[39m, starting_direction)\n\u001B[1;32m---> 10\u001B[0m \u001B[38;5;28;01mreturn\u001B[39;00m \u001B[43mhelper\u001B[49m\u001B[43m(\u001B[49m\u001B[38;5;241;43m0\u001B[39;49m\u001B[43m,\u001B[49m\u001B[43m \u001B[49m\u001B[38;5;241;43m70\u001B[39;49m\u001B[43m,\u001B[49m\u001B[43m \u001B[49m\u001B[38;5;241;43m0\u001B[39;49m\u001B[43m)\u001B[49m\n",
      "Cell \u001B[1;32mIn[1], line 7\u001B[0m, in \u001B[0;36mcount_journeys.<locals>.helper\u001B[1;34m(current_direction, remaining_arcs, starting_direction)\u001B[0m\n\u001B[0;32m      5\u001B[0m clockwise_direction \u001B[38;5;241m=\u001B[39m (current_direction \u001B[38;5;241m+\u001B[39m \u001B[38;5;241m72\u001B[39m) \u001B[38;5;241m%\u001B[39m \u001B[38;5;241m360\u001B[39m\n\u001B[0;32m      6\u001B[0m anticlockwise_direction \u001B[38;5;241m=\u001B[39m (current_direction \u001B[38;5;241m-\u001B[39m \u001B[38;5;241m72\u001B[39m) \u001B[38;5;241m%\u001B[39m \u001B[38;5;241m360\u001B[39m\n\u001B[1;32m----> 7\u001B[0m \u001B[38;5;28;01mreturn\u001B[39;00m \u001B[43mhelper\u001B[49m\u001B[43m(\u001B[49m\u001B[43mclockwise_direction\u001B[49m\u001B[43m,\u001B[49m\u001B[43m \u001B[49m\u001B[43mremaining_arcs\u001B[49m\u001B[43m \u001B[49m\u001B[38;5;241;43m-\u001B[39;49m\u001B[43m \u001B[49m\u001B[38;5;241;43m1\u001B[39;49m\u001B[43m,\u001B[49m\u001B[43m \u001B[49m\u001B[43mstarting_direction\u001B[49m\u001B[43m)\u001B[49m \u001B[38;5;241m+\u001B[39m \\\n\u001B[0;32m      8\u001B[0m        helper(anticlockwise_direction, remaining_arcs \u001B[38;5;241m-\u001B[39m \u001B[38;5;241m1\u001B[39m, starting_direction)\n",
      "Cell \u001B[1;32mIn[1], line 7\u001B[0m, in \u001B[0;36mcount_journeys.<locals>.helper\u001B[1;34m(current_direction, remaining_arcs, starting_direction)\u001B[0m\n\u001B[0;32m      5\u001B[0m clockwise_direction \u001B[38;5;241m=\u001B[39m (current_direction \u001B[38;5;241m+\u001B[39m \u001B[38;5;241m72\u001B[39m) \u001B[38;5;241m%\u001B[39m \u001B[38;5;241m360\u001B[39m\n\u001B[0;32m      6\u001B[0m anticlockwise_direction \u001B[38;5;241m=\u001B[39m (current_direction \u001B[38;5;241m-\u001B[39m \u001B[38;5;241m72\u001B[39m) \u001B[38;5;241m%\u001B[39m \u001B[38;5;241m360\u001B[39m\n\u001B[1;32m----> 7\u001B[0m \u001B[38;5;28;01mreturn\u001B[39;00m \u001B[43mhelper\u001B[49m\u001B[43m(\u001B[49m\u001B[43mclockwise_direction\u001B[49m\u001B[43m,\u001B[49m\u001B[43m \u001B[49m\u001B[43mremaining_arcs\u001B[49m\u001B[43m \u001B[49m\u001B[38;5;241;43m-\u001B[39;49m\u001B[43m \u001B[49m\u001B[38;5;241;43m1\u001B[39;49m\u001B[43m,\u001B[49m\u001B[43m \u001B[49m\u001B[43mstarting_direction\u001B[49m\u001B[43m)\u001B[49m \u001B[38;5;241m+\u001B[39m \\\n\u001B[0;32m      8\u001B[0m        helper(anticlockwise_direction, remaining_arcs \u001B[38;5;241m-\u001B[39m \u001B[38;5;241m1\u001B[39m, starting_direction)\n",
      "    \u001B[1;31m[... skipping similar frames: count_journeys.<locals>.helper at line 7 (38 times)]\u001B[0m\n",
      "Cell \u001B[1;32mIn[1], line 8\u001B[0m, in \u001B[0;36mcount_journeys.<locals>.helper\u001B[1;34m(current_direction, remaining_arcs, starting_direction)\u001B[0m\n\u001B[0;32m      5\u001B[0m clockwise_direction \u001B[38;5;241m=\u001B[39m (current_direction \u001B[38;5;241m+\u001B[39m \u001B[38;5;241m72\u001B[39m) \u001B[38;5;241m%\u001B[39m \u001B[38;5;241m360\u001B[39m\n\u001B[0;32m      6\u001B[0m anticlockwise_direction \u001B[38;5;241m=\u001B[39m (current_direction \u001B[38;5;241m-\u001B[39m \u001B[38;5;241m72\u001B[39m) \u001B[38;5;241m%\u001B[39m \u001B[38;5;241m360\u001B[39m\n\u001B[0;32m      7\u001B[0m \u001B[38;5;28;01mreturn\u001B[39;00m helper(clockwise_direction, remaining_arcs \u001B[38;5;241m-\u001B[39m \u001B[38;5;241m1\u001B[39m, starting_direction) \u001B[38;5;241m+\u001B[39m \\\n\u001B[1;32m----> 8\u001B[0m        \u001B[43mhelper\u001B[49m\u001B[43m(\u001B[49m\u001B[43manticlockwise_direction\u001B[49m\u001B[43m,\u001B[49m\u001B[43m \u001B[49m\u001B[43mremaining_arcs\u001B[49m\u001B[43m \u001B[49m\u001B[38;5;241;43m-\u001B[39;49m\u001B[43m \u001B[49m\u001B[38;5;241;43m1\u001B[39;49m\u001B[43m,\u001B[49m\u001B[43m \u001B[49m\u001B[43mstarting_direction\u001B[49m\u001B[43m)\u001B[49m\n",
      "    \u001B[1;31m[... skipping similar frames: count_journeys.<locals>.helper at line 7 (4 times)]\u001B[0m\n",
      "Cell \u001B[1;32mIn[1], line 8\u001B[0m, in \u001B[0;36mcount_journeys.<locals>.helper\u001B[1;34m(current_direction, remaining_arcs, starting_direction)\u001B[0m\n\u001B[0;32m      5\u001B[0m clockwise_direction \u001B[38;5;241m=\u001B[39m (current_direction \u001B[38;5;241m+\u001B[39m \u001B[38;5;241m72\u001B[39m) \u001B[38;5;241m%\u001B[39m \u001B[38;5;241m360\u001B[39m\n\u001B[0;32m      6\u001B[0m anticlockwise_direction \u001B[38;5;241m=\u001B[39m (current_direction \u001B[38;5;241m-\u001B[39m \u001B[38;5;241m72\u001B[39m) \u001B[38;5;241m%\u001B[39m \u001B[38;5;241m360\u001B[39m\n\u001B[0;32m      7\u001B[0m \u001B[38;5;28;01mreturn\u001B[39;00m helper(clockwise_direction, remaining_arcs \u001B[38;5;241m-\u001B[39m \u001B[38;5;241m1\u001B[39m, starting_direction) \u001B[38;5;241m+\u001B[39m \\\n\u001B[1;32m----> 8\u001B[0m        \u001B[43mhelper\u001B[49m\u001B[43m(\u001B[49m\u001B[43manticlockwise_direction\u001B[49m\u001B[43m,\u001B[49m\u001B[43m \u001B[49m\u001B[43mremaining_arcs\u001B[49m\u001B[43m \u001B[49m\u001B[38;5;241;43m-\u001B[39;49m\u001B[43m \u001B[49m\u001B[38;5;241;43m1\u001B[39;49m\u001B[43m,\u001B[49m\u001B[43m \u001B[49m\u001B[43mstarting_direction\u001B[49m\u001B[43m)\u001B[49m\n",
      "    \u001B[1;31m[... skipping similar frames: count_journeys.<locals>.helper at line 7 (14 times), count_journeys.<locals>.helper at line 8 (8 times)]\u001B[0m\n",
      "Cell \u001B[1;32mIn[1], line 8\u001B[0m, in \u001B[0;36mcount_journeys.<locals>.helper\u001B[1;34m(current_direction, remaining_arcs, starting_direction)\u001B[0m\n\u001B[0;32m      5\u001B[0m clockwise_direction \u001B[38;5;241m=\u001B[39m (current_direction \u001B[38;5;241m+\u001B[39m \u001B[38;5;241m72\u001B[39m) \u001B[38;5;241m%\u001B[39m \u001B[38;5;241m360\u001B[39m\n\u001B[0;32m      6\u001B[0m anticlockwise_direction \u001B[38;5;241m=\u001B[39m (current_direction \u001B[38;5;241m-\u001B[39m \u001B[38;5;241m72\u001B[39m) \u001B[38;5;241m%\u001B[39m \u001B[38;5;241m360\u001B[39m\n\u001B[0;32m      7\u001B[0m \u001B[38;5;28;01mreturn\u001B[39;00m helper(clockwise_direction, remaining_arcs \u001B[38;5;241m-\u001B[39m \u001B[38;5;241m1\u001B[39m, starting_direction) \u001B[38;5;241m+\u001B[39m \\\n\u001B[1;32m----> 8\u001B[0m        \u001B[43mhelper\u001B[49m\u001B[43m(\u001B[49m\u001B[43manticlockwise_direction\u001B[49m\u001B[43m,\u001B[49m\u001B[43m \u001B[49m\u001B[43mremaining_arcs\u001B[49m\u001B[43m \u001B[49m\u001B[38;5;241;43m-\u001B[39;49m\u001B[43m \u001B[49m\u001B[38;5;241;43m1\u001B[39;49m\u001B[43m,\u001B[49m\u001B[43m \u001B[49m\u001B[43mstarting_direction\u001B[49m\u001B[43m)\u001B[49m\n",
      "Cell \u001B[1;32mIn[1], line 7\u001B[0m, in \u001B[0;36mcount_journeys.<locals>.helper\u001B[1;34m(current_direction, remaining_arcs, starting_direction)\u001B[0m\n\u001B[0;32m      5\u001B[0m clockwise_direction \u001B[38;5;241m=\u001B[39m (current_direction \u001B[38;5;241m+\u001B[39m \u001B[38;5;241m72\u001B[39m) \u001B[38;5;241m%\u001B[39m \u001B[38;5;241m360\u001B[39m\n\u001B[0;32m      6\u001B[0m anticlockwise_direction \u001B[38;5;241m=\u001B[39m (current_direction \u001B[38;5;241m-\u001B[39m \u001B[38;5;241m72\u001B[39m) \u001B[38;5;241m%\u001B[39m \u001B[38;5;241m360\u001B[39m\n\u001B[1;32m----> 7\u001B[0m \u001B[38;5;28;01mreturn\u001B[39;00m \u001B[43mhelper\u001B[49m\u001B[43m(\u001B[49m\u001B[43mclockwise_direction\u001B[49m\u001B[43m,\u001B[49m\u001B[43m \u001B[49m\u001B[43mremaining_arcs\u001B[49m\u001B[43m \u001B[49m\u001B[38;5;241;43m-\u001B[39;49m\u001B[43m \u001B[49m\u001B[38;5;241;43m1\u001B[39;49m\u001B[43m,\u001B[49m\u001B[43m \u001B[49m\u001B[43mstarting_direction\u001B[49m\u001B[43m)\u001B[49m\u001B[43m \u001B[49m\u001B[38;5;241;43m+\u001B[39;49m\u001B[43m \u001B[49m\u001B[43m\\\u001B[49m\n\u001B[0;32m      8\u001B[0m \u001B[43m       \u001B[49m\u001B[43mhelper\u001B[49m\u001B[43m(\u001B[49m\u001B[43manticlockwise_direction\u001B[49m\u001B[43m,\u001B[49m\u001B[43m \u001B[49m\u001B[43mremaining_arcs\u001B[49m\u001B[43m \u001B[49m\u001B[38;5;241;43m-\u001B[39;49m\u001B[43m \u001B[49m\u001B[38;5;241;43m1\u001B[39;49m\u001B[43m,\u001B[49m\u001B[43m \u001B[49m\u001B[43mstarting_direction\u001B[49m\u001B[43m)\u001B[49m\n",
      "\u001B[1;31mKeyboardInterrupt\u001B[0m: "
     ]
    }
   ],
   "source": [
    "def count_journeys():\n",
    "    def helper(current_direction, remaining_arcs, starting_direction):\n",
    "        if remaining_arcs == 0:\n",
    "            return current_direction == starting_direction\n",
    "        clockwise_direction = (current_direction + 72) % 360\n",
    "        anticlockwise_direction = (current_direction - 72) % 360\n",
    "        return helper(clockwise_direction, remaining_arcs - 1, starting_direction) + \\\n",
    "               helper(anticlockwise_direction, remaining_arcs - 1, starting_direction)\n",
    "\n",
    "    return helper(0, 70, 0)\n",
    "\n",
    "journeys = count_journeys()\n",
    "print(\"Number of journeys:\", journeys)"
   ],
   "metadata": {
    "collapsed": false,
    "ExecuteTime": {
     "end_time": "2023-06-08T00:42:00.090786800Z",
     "start_time": "2023-06-08T00:38:48.691797200Z"
    }
   }
  },
  {
   "cell_type": "markdown",
   "source": [
    "## Correctness"
   ],
   "metadata": {
    "collapsed": false
   }
  },
  {
   "cell_type": "code",
   "execution_count": null,
   "outputs": [],
   "source": [
    "import unittest\n",
    "import solutions\n",
    "\n",
    "class Testing(unittest.TestCase):\n",
    "\n",
    "    def test_chatgpt(self):\n",
    "        self.assertEqual(journeys, solutions.p50)\n",
    "\n",
    "    def test_codex(self):\n",
    "        pass\n",
    "\n",
    "unittest.main(argv=[''], verbosity=2, exit=False)"
   ],
   "metadata": {
    "collapsed": false
   }
  },
  {
   "cell_type": "markdown",
   "source": [
    "## Discussion\n",
    "\n",
    "Timeout"
   ],
   "metadata": {
    "collapsed": false
   }
  }
 ],
 "metadata": {
  "kernelspec": {
   "display_name": "Python 3",
   "language": "python",
   "name": "python3"
  },
  "language_info": {
   "codemirror_mode": {
    "name": "ipython",
    "version": 2
   },
   "file_extension": ".py",
   "mimetype": "text/x-python",
   "name": "python",
   "nbconvert_exporter": "python",
   "pygments_lexer": "ipython2",
   "version": "2.7.6"
  }
 },
 "nbformat": 4,
 "nbformat_minor": 0
}
