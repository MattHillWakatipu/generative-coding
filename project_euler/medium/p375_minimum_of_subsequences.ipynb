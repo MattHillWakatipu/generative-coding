{
 "cells": [
  {
   "cell_type": "markdown",
   "source": [
    "# Minimum of subsequences\n",
    "\n",
    "Let Sn be an integer sequence produced with the following pseudo-random number generator:\n",
    "\n",
    "\n",
    "Let A(i,j) be the minimum of the numbers Si,Si+j,...,Sj for i <= j.\n",
    "Let M(N) = ΣA(i,j) for 1<= i <= j <= N.\n",
    "We can verify that M(10) = 432256955 and M(10000) = 3264567774119.\n",
    "\n",
    "Write a python program to find M(2000000000)."
   ],
   "metadata": {
    "collapsed": false
   }
  },
  {
   "cell_type": "markdown",
   "source": [
    "## Results"
   ],
   "metadata": {
    "collapsed": false
   }
  },
  {
   "cell_type": "code",
   "execution_count": 1,
   "outputs": [
    {
     "ename": "MemoryError",
     "evalue": "",
     "output_type": "error",
     "traceback": [
      "\u001B[1;31m---------------------------------------------------------------------------\u001B[0m",
      "\u001B[1;31mMemoryError\u001B[0m                               Traceback (most recent call last)",
      "Cell \u001B[1;32mIn[1], line 23\u001B[0m\n\u001B[0;32m     20\u001B[0m     \u001B[38;5;28;01mreturn\u001B[39;00m M \u001B[38;5;241m%\u001B[39m MOD\n\u001B[0;32m     22\u001B[0m \u001B[38;5;66;03m# Calculate and print M(2000000000)\u001B[39;00m\n\u001B[1;32m---> 23\u001B[0m result \u001B[38;5;241m=\u001B[39m \u001B[43mcompute_M\u001B[49m\u001B[43m(\u001B[49m\u001B[38;5;241;43m2000000000\u001B[39;49m\u001B[43m)\u001B[49m\n\u001B[0;32m     24\u001B[0m \u001B[38;5;28mprint\u001B[39m(result)\n",
      "Cell \u001B[1;32mIn[1], line 5\u001B[0m, in \u001B[0;36mcompute_M\u001B[1;34m(N)\u001B[0m\n\u001B[0;32m      2\u001B[0m MOD \u001B[38;5;241m=\u001B[39m \u001B[38;5;241m1000000007\u001B[39m  \u001B[38;5;66;03m# Modulus value to avoid integer overflow\u001B[39;00m\n\u001B[0;32m      4\u001B[0m \u001B[38;5;66;03m# Generate the sequence S using the pseudo-random number generator\u001B[39;00m\n\u001B[1;32m----> 5\u001B[0m S \u001B[38;5;241m=\u001B[39m \u001B[43m[\u001B[49m\u001B[38;5;241;43m0\u001B[39;49m\u001B[43m]\u001B[49m\u001B[43m \u001B[49m\u001B[38;5;241;43m*\u001B[39;49m\u001B[43m \u001B[49m\u001B[43m(\u001B[49m\u001B[43mN\u001B[49m\u001B[43m \u001B[49m\u001B[38;5;241;43m+\u001B[39;49m\u001B[43m \u001B[49m\u001B[38;5;241;43m1\u001B[39;49m\u001B[43m)\u001B[49m\n\u001B[0;32m      6\u001B[0m \u001B[38;5;28;01mfor\u001B[39;00m i \u001B[38;5;129;01min\u001B[39;00m \u001B[38;5;28mrange\u001B[39m(\u001B[38;5;241m1\u001B[39m, N \u001B[38;5;241m+\u001B[39m \u001B[38;5;241m1\u001B[39m):\n\u001B[0;32m      7\u001B[0m     S[i] \u001B[38;5;241m=\u001B[39m (S[i \u001B[38;5;241m-\u001B[39m \u001B[38;5;241m24\u001B[39m] \u001B[38;5;241m+\u001B[39m S[i \u001B[38;5;241m-\u001B[39m \u001B[38;5;241m55\u001B[39m]) \u001B[38;5;241m%\u001B[39m MOD\n",
      "\u001B[1;31mMemoryError\u001B[0m: "
     ]
    }
   ],
   "source": [
    "def compute_M(N):\n",
    "    MOD = 1000000007  # Modulus value to avoid integer overflow\n",
    "\n",
    "    # Generate the sequence S using the pseudo-random number generator\n",
    "    S = [0] * (N + 1)\n",
    "    for i in range(1, N + 1):\n",
    "        S[i] = (S[i - 24] + S[i - 55]) % MOD\n",
    "\n",
    "    # Calculate prefix sums\n",
    "    prefix_sum = [0] * (N + 1)\n",
    "    for i in range(1, N + 1):\n",
    "        prefix_sum[i] = prefix_sum[i - 1] + S[i]\n",
    "\n",
    "    # Calculate M(N)\n",
    "    M = 0\n",
    "    for i in range(1, N + 1):\n",
    "        for j in range(i, N + 1):\n",
    "            M += min(S[i : j + 1])\n",
    "\n",
    "    return M % MOD\n",
    "\n",
    "# Calculate and print M(2000000000)\n",
    "result = compute_M(2000000000)\n",
    "print(result)\n"
   ],
   "metadata": {
    "collapsed": false,
    "ExecuteTime": {
     "end_time": "2023-06-08T00:52:47.026946800Z",
     "start_time": "2023-06-08T00:52:46.859833200Z"
    }
   }
  },
  {
   "cell_type": "markdown",
   "source": [
    "## Correctness"
   ],
   "metadata": {
    "collapsed": false
   }
  },
  {
   "cell_type": "code",
   "execution_count": null,
   "outputs": [],
   "source": [
    "import unittest\n",
    "import solutions\n",
    "\n",
    "class Testing(unittest.TestCase):\n",
    "\n",
    "    def test_chatgpt(self):\n",
    "        self.assertEqual(result, solutions.p375)\n",
    "\n",
    "unittest.main(argv=[''], verbosity=2, exit=False)"
   ],
   "metadata": {
    "collapsed": false
   }
  },
  {
   "cell_type": "markdown",
   "source": [
    "## Discussion\n",
    "\n",
    "Memory error."
   ],
   "metadata": {
    "collapsed": false
   }
  }
 ],
 "metadata": {
  "kernelspec": {
   "display_name": "Python 3",
   "language": "python",
   "name": "python3"
  },
  "language_info": {
   "codemirror_mode": {
    "name": "ipython",
    "version": 2
   },
   "file_extension": ".py",
   "mimetype": "text/x-python",
   "name": "python",
   "nbconvert_exporter": "python",
   "pygments_lexer": "ipython2",
   "version": "2.7.6"
  }
 },
 "nbformat": 4,
 "nbformat_minor": 0
}
