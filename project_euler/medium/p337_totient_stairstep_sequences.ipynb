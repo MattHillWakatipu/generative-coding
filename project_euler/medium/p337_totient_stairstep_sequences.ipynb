{
 "cells": [
  {
   "cell_type": "markdown",
   "source": [
    "# Totient Stairstep Sequences\n",
    "\n",
    "Let {a1, a2,..., an} be an integer sequence of length n such that:\n",
    "\n",
    "    a1 = 6\n",
    "    for all 1 ≤ i < n : φ(ai) < φ(ai+1) < ai < ai+11\n",
    "\n",
    "Let S(N) be the number of such sequences with an ≤ N.\n",
    "For example, S(10) = 4: {6}, {6, 8}, {6, 8, 9} and {6, 10}.\n",
    "We can verify that S(100) = 482073668 and S(10 000) mod 108 = 73808307.\n",
    "\n",
    "Find S(20 000 000) mod 108.\n",
    "\n",
    "1 φ denotes Euler's totient function."
   ],
   "metadata": {
    "collapsed": false
   }
  },
  {
   "cell_type": "markdown",
   "source": [
    "## Expected response\n",
    "\n"
   ],
   "metadata": {
    "collapsed": false
   }
  },
  {
   "cell_type": "markdown",
   "source": [
    "## Potential problems\n",
    "\n"
   ],
   "metadata": {
    "collapsed": false
   }
  },
  {
   "cell_type": "markdown",
   "source": [
    "## Results"
   ],
   "metadata": {
    "collapsed": false
   }
  },
  {
   "cell_type": "code",
   "execution_count": null,
   "outputs": [],
   "source": [],
   "metadata": {
    "collapsed": false
   }
  },
  {
   "cell_type": "markdown",
   "source": [
    "## Correctness"
   ],
   "metadata": {
    "collapsed": false
   }
  },
  {
   "cell_type": "code",
   "execution_count": null,
   "outputs": [],
   "source": [
    "import unittest\n",
    "import solutions\n",
    "\n",
    "class Testing(unittest.TestCase):\n",
    "\n",
    "    def test_chatgpt(self):\n",
    "        self.assertEqual(answer, solutions.p50)\n",
    "\n",
    "    def test_codex(self):\n",
    "        pass\n",
    "\n",
    "unittest.main(argv=[''], verbosity=2, exit=False)"
   ],
   "metadata": {
    "collapsed": false
   }
  },
  {
   "cell_type": "markdown",
   "source": [
    "## Discussion\n",
    "\n"
   ],
   "metadata": {
    "collapsed": false
   }
  }
 ],
 "metadata": {
  "kernelspec": {
   "display_name": "Python 3",
   "language": "python",
   "name": "python3"
  },
  "language_info": {
   "codemirror_mode": {
    "name": "ipython",
    "version": 2
   },
   "file_extension": ".py",
   "mimetype": "text/x-python",
   "name": "python",
   "nbconvert_exporter": "python",
   "pygments_lexer": "ipython2",
   "version": "2.7.6"
  }
 },
 "nbformat": 4,
 "nbformat_minor": 0
}
