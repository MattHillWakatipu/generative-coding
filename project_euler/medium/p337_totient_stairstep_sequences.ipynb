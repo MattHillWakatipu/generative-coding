{
 "cells": [
  {
   "cell_type": "markdown",
   "source": [
    "# Totient Stairstep Sequences\n",
    "\n",
    "Let {a1, a2,..., an} be an integer sequence of length n such that:\n",
    "\n",
    "    a1 = 6\n",
    "    for all 1 ≤ i < n : φ(ai) < φ(ai+1) < ai < ai+11\n",
    "\n",
    "Let S(N) be the number of such sequences with an ≤ N.\n",
    "For example, S(10) = 4: {6}, {6, 8}, {6, 8, 9} and {6, 10}.\n",
    "We can verify that S(100) = 482073668 and S(10 000) mod 108 = 73808307.\n",
    "\n",
    "Write a python program to find S(20 000 000) mod 108.\n",
    "\n",
    "1 φ denotes Euler's totient function."
   ],
   "metadata": {
    "collapsed": false
   }
  },
  {
   "cell_type": "markdown",
   "source": [
    "## Results"
   ],
   "metadata": {
    "collapsed": false
   }
  },
  {
   "cell_type": "code",
   "execution_count": 1,
   "outputs": [
    {
     "ename": "KeyboardInterrupt",
     "evalue": "",
     "output_type": "error",
     "traceback": [
      "\u001B[1;31m---------------------------------------------------------------------------\u001B[0m",
      "\u001B[1;31mKeyboardInterrupt\u001B[0m                         Traceback (most recent call last)",
      "Cell \u001B[1;32mIn[1], line 31\u001B[0m\n\u001B[0;32m     29\u001B[0m N \u001B[38;5;241m=\u001B[39m \u001B[38;5;241m20000000\u001B[39m\n\u001B[0;32m     30\u001B[0m mod \u001B[38;5;241m=\u001B[39m \u001B[38;5;241m10\u001B[39m \u001B[38;5;241m*\u001B[39m\u001B[38;5;241m*\u001B[39m \u001B[38;5;241m8\u001B[39m\n\u001B[1;32m---> 31\u001B[0m result \u001B[38;5;241m=\u001B[39m \u001B[43mcount_sequences\u001B[49m\u001B[43m(\u001B[49m\u001B[43mN\u001B[49m\u001B[43m,\u001B[49m\u001B[43m \u001B[49m\u001B[43mN\u001B[49m\u001B[43m)\u001B[49m \u001B[38;5;241m%\u001B[39m mod\n\u001B[0;32m     32\u001B[0m \u001B[38;5;28mprint\u001B[39m(result)\n",
      "Cell \u001B[1;32mIn[1], line 23\u001B[0m, in \u001B[0;36mcount_sequences\u001B[1;34m(n, N, memo)\u001B[0m\n\u001B[0;32m     21\u001B[0m result \u001B[38;5;241m=\u001B[39m \u001B[38;5;241m0\u001B[39m\n\u001B[0;32m     22\u001B[0m \u001B[38;5;28;01mfor\u001B[39;00m i \u001B[38;5;129;01min\u001B[39;00m \u001B[38;5;28mrange\u001B[39m(\u001B[38;5;241m2\u001B[39m, N \u001B[38;5;241m+\u001B[39m \u001B[38;5;241m1\u001B[39m):\n\u001B[1;32m---> 23\u001B[0m     \u001B[38;5;28;01mif\u001B[39;00m \u001B[43meuler_totient\u001B[49m\u001B[43m(\u001B[49m\u001B[43mi\u001B[49m\u001B[43m)\u001B[49m \u001B[38;5;241m<\u001B[39m euler_totient(N) \u001B[38;5;129;01mand\u001B[39;00m euler_totient(N) \u001B[38;5;241m<\u001B[39m i \u001B[38;5;241m<\u001B[39m N \u001B[38;5;129;01mand\u001B[39;00m euler_totient(i) \u001B[38;5;241m<\u001B[39m euler_totient(N \u001B[38;5;241m-\u001B[39m i \u001B[38;5;241m+\u001B[39m \u001B[38;5;241m1\u001B[39m):\n\u001B[0;32m     24\u001B[0m         result \u001B[38;5;241m+\u001B[39m\u001B[38;5;241m=\u001B[39m count_sequences(n \u001B[38;5;241m-\u001B[39m \u001B[38;5;241m1\u001B[39m, i \u001B[38;5;241m-\u001B[39m \u001B[38;5;241m1\u001B[39m, memo)\n\u001B[0;32m     26\u001B[0m memo[(n, N)] \u001B[38;5;241m=\u001B[39m result\n",
      "Cell \u001B[1;32mIn[1], line 9\u001B[0m, in \u001B[0;36meuler_totient\u001B[1;34m(n)\u001B[0m\n\u001B[0;32m      7\u001B[0m             n \u001B[38;5;241m/\u001B[39m\u001B[38;5;241m/\u001B[39m\u001B[38;5;241m=\u001B[39m p\n\u001B[0;32m      8\u001B[0m         result \u001B[38;5;241m-\u001B[39m\u001B[38;5;241m=\u001B[39m result \u001B[38;5;241m/\u001B[39m\u001B[38;5;241m/\u001B[39m p\n\u001B[1;32m----> 9\u001B[0m     p \u001B[38;5;241m+\u001B[39m\u001B[38;5;241m=\u001B[39m \u001B[38;5;241m1\u001B[39m\n\u001B[0;32m     10\u001B[0m \u001B[38;5;28;01mif\u001B[39;00m n \u001B[38;5;241m>\u001B[39m \u001B[38;5;241m1\u001B[39m:\n\u001B[0;32m     11\u001B[0m     result \u001B[38;5;241m-\u001B[39m\u001B[38;5;241m=\u001B[39m result \u001B[38;5;241m/\u001B[39m\u001B[38;5;241m/\u001B[39m n\n",
      "\u001B[1;31mKeyboardInterrupt\u001B[0m: "
     ]
    }
   ],
   "source": [
    "def euler_totient(n):\n",
    "    result = n\n",
    "    p = 2\n",
    "    while p * p <= n:\n",
    "        if n % p == 0:\n",
    "            while n % p == 0:\n",
    "                n //= p\n",
    "            result -= result // p\n",
    "        p += 1\n",
    "    if n > 1:\n",
    "        result -= result // n\n",
    "    return result\n",
    "\n",
    "def count_sequences(n, N, memo={}):\n",
    "    if n == 1:\n",
    "        return 1\n",
    "\n",
    "    if (n, N) in memo:\n",
    "        return memo[(n, N)]\n",
    "\n",
    "    result = 0\n",
    "    for i in range(2, N + 1):\n",
    "        if euler_totient(i) < euler_totient(N) and euler_totient(N) < i < N and euler_totient(i) < euler_totient(N - i + 1):\n",
    "            result += count_sequences(n - 1, i - 1, memo)\n",
    "\n",
    "    memo[(n, N)] = result\n",
    "    return result\n",
    "\n",
    "N = 20000000\n",
    "mod = 10 ** 8\n",
    "result = count_sequences(N, N) % mod\n",
    "print(result)\n"
   ],
   "metadata": {
    "collapsed": false,
    "ExecuteTime": {
     "end_time": "2023-06-08T00:47:15.150188900Z",
     "start_time": "2023-06-08T00:44:37.859634200Z"
    }
   }
  },
  {
   "cell_type": "markdown",
   "source": [
    "## Correctness"
   ],
   "metadata": {
    "collapsed": false
   }
  },
  {
   "cell_type": "code",
   "execution_count": null,
   "outputs": [],
   "source": [
    "import unittest\n",
    "import solutions\n",
    "\n",
    "class Testing(unittest.TestCase):\n",
    "\n",
    "    def test_chatgpt(self):\n",
    "        self.assertEqual(result, solutions.p337)\n",
    "\n",
    "unittest.main(argv=[''], verbosity=2, exit=False)"
   ],
   "metadata": {
    "collapsed": false
   }
  },
  {
   "cell_type": "markdown",
   "source": [
    "## Discussion\n",
    "\n",
    "Timeout"
   ],
   "metadata": {
    "collapsed": false
   }
  }
 ],
 "metadata": {
  "kernelspec": {
   "display_name": "Python 3",
   "language": "python",
   "name": "python3"
  },
  "language_info": {
   "codemirror_mode": {
    "name": "ipython",
    "version": 2
   },
   "file_extension": ".py",
   "mimetype": "text/x-python",
   "name": "python",
   "nbconvert_exporter": "python",
   "pygments_lexer": "ipython2",
   "version": "2.7.6"
  }
 },
 "nbformat": 4,
 "nbformat_minor": 0
}
