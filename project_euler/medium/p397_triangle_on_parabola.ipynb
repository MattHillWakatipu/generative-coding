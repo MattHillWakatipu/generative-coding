{
 "cells": [
  {
   "cell_type": "markdown",
   "source": [
    "# Triangle on parabola\n",
    "\n",
    "On the parabola y = x2/k, three points A(a, a2/k), B(b, b2/k) and C(c, c2/k) are chosen.\n",
    "\n",
    "Let F(K, X) be the number of the integer quadruplets (k, a, b, c) such that at least one angle of the triangle ABC is 45-degree, with 1 ≤ k ≤ K and -X ≤ a < b < c ≤ X.\n",
    "\n",
    "For example, F(1, 10) = 41 and F(10, 100) = 12492.\n",
    "Write a python program to find F(106, 109)."
   ],
   "metadata": {
    "collapsed": false
   }
  },
  {
   "cell_type": "markdown",
   "source": [
    "## Results"
   ],
   "metadata": {
    "collapsed": false
   }
  },
  {
   "cell_type": "code",
   "execution_count": 1,
   "outputs": [
    {
     "ename": "KeyboardInterrupt",
     "evalue": "",
     "output_type": "error",
     "traceback": [
      "\u001B[1;31m---------------------------------------------------------------------------\u001B[0m",
      "\u001B[1;31mKeyboardInterrupt\u001B[0m                         Traceback (most recent call last)",
      "Cell \u001B[1;32mIn[1], line 30\u001B[0m\n\u001B[0;32m     26\u001B[0m             \u001B[38;5;28;01mreturn\u001B[39;00m \u001B[38;5;28;01mTrue\u001B[39;00m\n\u001B[0;32m     28\u001B[0m     \u001B[38;5;28;01mreturn\u001B[39;00m \u001B[38;5;28;01mFalse\u001B[39;00m\n\u001B[1;32m---> 30\u001B[0m result \u001B[38;5;241m=\u001B[39m \u001B[43mcount_quadruplets\u001B[49m\u001B[43m(\u001B[49m\u001B[38;5;241;43m10\u001B[39;49m\u001B[38;5;241;43m*\u001B[39;49m\u001B[38;5;241;43m*\u001B[39;49m\u001B[38;5;241;43m6\u001B[39;49m\u001B[43m,\u001B[49m\u001B[43m \u001B[49m\u001B[38;5;241;43m10\u001B[39;49m\u001B[38;5;241;43m*\u001B[39;49m\u001B[38;5;241;43m*\u001B[39;49m\u001B[38;5;241;43m9\u001B[39;49m\u001B[43m)\u001B[49m\n\u001B[0;32m     31\u001B[0m \u001B[38;5;28mprint\u001B[39m(\u001B[38;5;124m\"\u001B[39m\u001B[38;5;124mF(10^6, 10^9) =\u001B[39m\u001B[38;5;124m\"\u001B[39m, result)\n",
      "Cell \u001B[1;32mIn[1], line 7\u001B[0m, in \u001B[0;36mcount_quadruplets\u001B[1;34m(K, X)\u001B[0m\n\u001B[0;32m      5\u001B[0m         \u001B[38;5;28;01mfor\u001B[39;00m b \u001B[38;5;129;01min\u001B[39;00m \u001B[38;5;28mrange\u001B[39m(a \u001B[38;5;241m+\u001B[39m \u001B[38;5;241m1\u001B[39m, X \u001B[38;5;241m+\u001B[39m \u001B[38;5;241m1\u001B[39m):\n\u001B[0;32m      6\u001B[0m             \u001B[38;5;28;01mfor\u001B[39;00m c \u001B[38;5;129;01min\u001B[39;00m \u001B[38;5;28mrange\u001B[39m(b \u001B[38;5;241m+\u001B[39m \u001B[38;5;241m1\u001B[39m, X \u001B[38;5;241m+\u001B[39m \u001B[38;5;241m1\u001B[39m):\n\u001B[1;32m----> 7\u001B[0m                 \u001B[38;5;28;01mif\u001B[39;00m \u001B[43mis_triangle_45_degrees\u001B[49m\u001B[43m(\u001B[49m\u001B[43ma\u001B[49m\u001B[43m,\u001B[49m\u001B[43m \u001B[49m\u001B[43mb\u001B[49m\u001B[43m,\u001B[49m\u001B[43m \u001B[49m\u001B[43mc\u001B[49m\u001B[43m,\u001B[49m\u001B[43m \u001B[49m\u001B[43mk\u001B[49m\u001B[43m)\u001B[49m:\n\u001B[0;32m      8\u001B[0m                     count \u001B[38;5;241m+\u001B[39m\u001B[38;5;241m=\u001B[39m \u001B[38;5;241m1\u001B[39m\n\u001B[0;32m      9\u001B[0m \u001B[38;5;28;01mreturn\u001B[39;00m count\n",
      "\u001B[1;31mKeyboardInterrupt\u001B[0m: "
     ]
    }
   ],
   "source": [
    "def count_quadruplets(K, X):\n",
    "    count = 0\n",
    "    for k in range(1, K + 1):\n",
    "        for a in range(-X, X + 1):\n",
    "            for b in range(a + 1, X + 1):\n",
    "                for c in range(b + 1, X + 1):\n",
    "                    if is_triangle_45_degrees(a, b, c, k):\n",
    "                        count += 1\n",
    "    return count\n",
    "\n",
    "def is_triangle_45_degrees(a, b, c, k):\n",
    "    x1 = a\n",
    "    x2 = b\n",
    "    x3 = c\n",
    "    y1 = (a ** 2) / k\n",
    "    y2 = (b ** 2) / k\n",
    "    y3 = (c ** 2) / k\n",
    "\n",
    "    angles = []\n",
    "    angles.append((y2 - y1) / (x2 - x1))  # angle between A and B\n",
    "    angles.append((y3 - y2) / (x3 - x2))  # angle between B and C\n",
    "    angles.append((y3 - y1) / (x3 - x1))  # angle between A and C\n",
    "\n",
    "    for angle in angles:\n",
    "        if angle == 1 or angle == -1:\n",
    "            return True\n",
    "\n",
    "    return False\n",
    "\n",
    "result = count_quadruplets(10**6, 10**9)\n",
    "print(\"F(10^6, 10^9) =\", result)\n"
   ],
   "metadata": {
    "collapsed": false,
    "ExecuteTime": {
     "end_time": "2023-06-08T00:58:27.816160400Z",
     "start_time": "2023-06-08T00:56:22.559029400Z"
    }
   }
  },
  {
   "cell_type": "markdown",
   "source": [
    "## Correctness"
   ],
   "metadata": {
    "collapsed": false
   }
  },
  {
   "cell_type": "code",
   "execution_count": null,
   "outputs": [],
   "source": [
    "import unittest\n",
    "import solutions\n",
    "\n",
    "class Testing(unittest.TestCase):\n",
    "\n",
    "    def test_chatgpt(self):\n",
    "        self.assertEqual(result, solutions.p397)\n",
    "\n",
    "unittest.main(argv=[''], verbosity=2, exit=False)"
   ],
   "metadata": {
    "collapsed": false
   }
  },
  {
   "cell_type": "markdown",
   "source": [
    "## Discussion\n",
    "\n",
    "Timeout."
   ],
   "metadata": {
    "collapsed": false
   }
  }
 ],
 "metadata": {
  "kernelspec": {
   "display_name": "Python 3",
   "language": "python",
   "name": "python3"
  },
  "language_info": {
   "codemirror_mode": {
    "name": "ipython",
    "version": 2
   },
   "file_extension": ".py",
   "mimetype": "text/x-python",
   "name": "python",
   "nbconvert_exporter": "python",
   "pygments_lexer": "ipython2",
   "version": "2.7.6"
  }
 },
 "nbformat": 4,
 "nbformat_minor": 0
}
