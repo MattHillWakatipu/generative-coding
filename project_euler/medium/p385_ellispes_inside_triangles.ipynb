{
 "cells": [
  {
   "cell_type": "markdown",
   "source": [
    "# Ellipses inside triangles\n",
    "\n",
    "For any triangle T in the plane, it can be shown that there is a unique ellipse with largest area that is completely inside T.\n",
    "\n",
    "p385_ellipsetriangle.png\n",
    "\n",
    "For a given n, consider triangles T such that:\n",
    "- the vertices of T have integer coordinates with absolute value ≤ n, and\n",
    "- the foci1 of the largest-area ellipse inside T are (√13,0) and (-√13,0).\n",
    "Let A(n) be the sum of the areas of all such triangles.\n",
    "\n",
    "For example, if n = 8, there are two such triangles. Their vertices are (-4,-3),(-4,3),(8,0) and (4,3),(4,-3),(-8,0), and the area of each triangle is 36. Thus A(8) = 36 + 36 = 72.\n",
    "\n",
    "It can be verified that A(10) = 252, A(100) = 34632 and A(1000) = 3529008.\n",
    "\n",
    "Find A(1 000 000 000).\n",
    "\n",
    "1The foci (plural of focus) of an ellipse are two points A and B such that for every point P on the boundary of the ellipse, AP + PB is constant.\n"
   ],
   "metadata": {
    "collapsed": false
   }
  },
  {
   "cell_type": "markdown",
   "source": [
    "## Expected response\n",
    "\n"
   ],
   "metadata": {
    "collapsed": false
   }
  },
  {
   "cell_type": "markdown",
   "source": [
    "## Potential problems\n",
    "\n"
   ],
   "metadata": {
    "collapsed": false
   }
  },
  {
   "cell_type": "markdown",
   "source": [
    "## Results"
   ],
   "metadata": {
    "collapsed": false
   }
  },
  {
   "cell_type": "code",
   "execution_count": null,
   "outputs": [],
   "source": [],
   "metadata": {
    "collapsed": false
   }
  },
  {
   "cell_type": "markdown",
   "source": [
    "## Correctness"
   ],
   "metadata": {
    "collapsed": false
   }
  },
  {
   "cell_type": "code",
   "execution_count": null,
   "outputs": [],
   "source": [
    "import unittest\n",
    "import solutions\n",
    "\n",
    "class Testing(unittest.TestCase):\n",
    "\n",
    "    def test_chatgpt(self):\n",
    "        self.assertEqual(answer, solutions.p50)\n",
    "\n",
    "    def test_codex(self):\n",
    "        pass\n",
    "\n",
    "unittest.main(argv=[''], verbosity=2, exit=False)"
   ],
   "metadata": {
    "collapsed": false
   }
  },
  {
   "cell_type": "markdown",
   "source": [
    "## Discussion\n",
    "\n"
   ],
   "metadata": {
    "collapsed": false
   }
  }
 ],
 "metadata": {
  "kernelspec": {
   "display_name": "Python 3",
   "language": "python",
   "name": "python3"
  },
  "language_info": {
   "codemirror_mode": {
    "name": "ipython",
    "version": 2
   },
   "file_extension": ".py",
   "mimetype": "text/x-python",
   "name": "python",
   "nbconvert_exporter": "python",
   "pygments_lexer": "ipython2",
   "version": "2.7.6"
  }
 },
 "nbformat": 4,
 "nbformat_minor": 0
}
