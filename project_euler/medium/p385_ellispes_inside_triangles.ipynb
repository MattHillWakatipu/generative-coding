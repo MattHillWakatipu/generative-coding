{
 "cells": [
  {
   "cell_type": "markdown",
   "source": [
    "# Ellipses inside triangles\n",
    "\n",
    "For any triangle T in the plane, it can be shown that there is a unique ellipse with largest area that is completely inside T.\n",
    "\n",
    "For a given n, consider triangles T such that:\n",
    "- the vertices of T have integer coordinates with absolute value ≤ n, and\n",
    "- the foci1 of the largest-area ellipse inside T are (√13,0) and (-√13,0).\n",
    "Let A(n) be the sum of the areas of all such triangles.\n",
    "\n",
    "For example, if n = 8, there are two such triangles. Their vertices are (-4,-3),(-4,3),(8,0) and (4,3),(4,-3),(-8,0), and the area of each triangle is 36. Thus A(8) = 36 + 36 = 72.\n",
    "\n",
    "It can be verified that A(10) = 252, A(100) = 34632 and A(1000) = 3529008.\n",
    "\n",
    "Find A(1 000 000 000).\n",
    "\n",
    "1The foci (plural of focus) of an ellipse are two points A and B such that for every point P on the boundary of the ellipse, AP + PB is constant.\n"
   ],
   "metadata": {
    "collapsed": false
   }
  },
  {
   "cell_type": "markdown",
   "source": [
    "## Results"
   ],
   "metadata": {
    "collapsed": false
   }
  },
  {
   "cell_type": "code",
   "execution_count": 1,
   "outputs": [
    {
     "ename": "ValueError",
     "evalue": "math domain error",
     "output_type": "error",
     "traceback": [
      "\u001B[1;31m---------------------------------------------------------------------------\u001B[0m",
      "\u001B[1;31mValueError\u001B[0m                                Traceback (most recent call last)",
      "Cell \u001B[1;32mIn[1], line 23\u001B[0m\n\u001B[0;32m     20\u001B[0m         total_area \u001B[38;5;241m+\u001B[39m\u001B[38;5;241m=\u001B[39m lattice_points \u001B[38;5;241m*\u001B[39m area\n\u001B[0;32m     21\u001B[0m     \u001B[38;5;28;01mreturn\u001B[39;00m \u001B[38;5;28mint\u001B[39m(total_area)\n\u001B[1;32m---> 23\u001B[0m result \u001B[38;5;241m=\u001B[39m \u001B[43mA\u001B[49m\u001B[43m(\u001B[49m\u001B[38;5;241;43m1_000_000_000\u001B[39;49m\u001B[43m)\u001B[49m\n\u001B[0;32m     24\u001B[0m \u001B[38;5;28mprint\u001B[39m(result)\n",
      "Cell \u001B[1;32mIn[1], line 19\u001B[0m, in \u001B[0;36mA\u001B[1;34m(n)\u001B[0m\n\u001B[0;32m     17\u001B[0m \u001B[38;5;28;01mfor\u001B[39;00m b \u001B[38;5;129;01min\u001B[39;00m \u001B[38;5;28mrange\u001B[39m(\u001B[38;5;241m1\u001B[39m, \u001B[38;5;28mint\u001B[39m(sqrt(n)) \u001B[38;5;241m+\u001B[39m \u001B[38;5;241m1\u001B[39m):\n\u001B[0;32m     18\u001B[0m     lattice_points \u001B[38;5;241m=\u001B[39m count_lattice_points(b)\n\u001B[1;32m---> 19\u001B[0m     area \u001B[38;5;241m=\u001B[39m \u001B[43mcalculate_area\u001B[49m\u001B[43m(\u001B[49m\u001B[38;5;241;43m2\u001B[39;49m\u001B[43m \u001B[49m\u001B[38;5;241;43m*\u001B[39;49m\u001B[43m \u001B[49m\u001B[43mb\u001B[49m\u001B[43m)\u001B[49m\n\u001B[0;32m     20\u001B[0m     total_area \u001B[38;5;241m+\u001B[39m\u001B[38;5;241m=\u001B[39m lattice_points \u001B[38;5;241m*\u001B[39m area\n\u001B[0;32m     21\u001B[0m \u001B[38;5;28;01mreturn\u001B[39;00m \u001B[38;5;28mint\u001B[39m(total_area)\n",
      "Cell \u001B[1;32mIn[1], line 13\u001B[0m, in \u001B[0;36mcalculate_area\u001B[1;34m(b)\u001B[0m\n\u001B[0;32m     11\u001B[0m \u001B[38;5;28;01mdef\u001B[39;00m \u001B[38;5;21mcalculate_area\u001B[39m(b):\n\u001B[0;32m     12\u001B[0m     \u001B[38;5;66;03m# Calculate the area of the triangle given the length of the minor axis\u001B[39;00m\n\u001B[1;32m---> 13\u001B[0m     \u001B[38;5;28;01mreturn\u001B[39;00m \u001B[38;5;241m13\u001B[39m \u001B[38;5;241m*\u001B[39m \u001B[43msqrt\u001B[49m\u001B[43m(\u001B[49m\u001B[38;5;241;43m1\u001B[39;49m\u001B[43m \u001B[49m\u001B[38;5;241;43m-\u001B[39;49m\u001B[43m \u001B[49m\u001B[43m(\u001B[49m\u001B[43mb\u001B[49m\u001B[38;5;241;43m*\u001B[39;49m\u001B[38;5;241;43m*\u001B[39;49m\u001B[38;5;241;43m2\u001B[39;49m\u001B[43m \u001B[49m\u001B[38;5;241;43m/\u001B[39;49m\u001B[43m \u001B[49m\u001B[38;5;241;43m13\u001B[39;49m\u001B[43m)\u001B[49m\u001B[43m)\u001B[49m\n",
      "\u001B[1;31mValueError\u001B[0m: math domain error"
     ]
    }
   ],
   "source": [
    "from math import sqrt\n",
    "\n",
    "def count_lattice_points(b):\n",
    "    # Count the number of lattice points on the major axis at a distance b from the origin\n",
    "    count = 0\n",
    "    for x in range(int(-sqrt(13)), int(sqrt(13)) + 1):\n",
    "        if x**2 + b**2 <= 13:\n",
    "            count += 1\n",
    "    return count\n",
    "\n",
    "def calculate_area(b):\n",
    "    # Calculate the area of the triangle given the length of the minor axis\n",
    "    return 13 * sqrt(1 - (b**2 / 13))\n",
    "\n",
    "def A(n):\n",
    "    total_area = 0\n",
    "    for b in range(1, int(sqrt(n)) + 1):\n",
    "        lattice_points = count_lattice_points(b)\n",
    "        area = calculate_area(2 * b)\n",
    "        total_area += lattice_points * area\n",
    "    return int(total_area)\n",
    "\n",
    "result = A(1_000_000_000)\n",
    "print(result)\n"
   ],
   "metadata": {
    "collapsed": false,
    "ExecuteTime": {
     "end_time": "2023-06-08T00:54:08.841332800Z",
     "start_time": "2023-06-08T00:54:08.680075Z"
    }
   }
  },
  {
   "cell_type": "markdown",
   "source": [
    "## Correctness"
   ],
   "metadata": {
    "collapsed": false
   }
  },
  {
   "cell_type": "code",
   "execution_count": null,
   "outputs": [],
   "source": [
    "import unittest\n",
    "import solutions\n",
    "\n",
    "class Testing(unittest.TestCase):\n",
    "\n",
    "    def test_chatgpt(self):\n",
    "        self.assertEqual(result, solutions.p385)\n",
    "\n",
    "\n",
    "unittest.main(argv=[''], verbosity=2, exit=False)"
   ],
   "metadata": {
    "collapsed": false
   }
  },
  {
   "cell_type": "markdown",
   "source": [
    "## Discussion\n",
    "\n",
    "Math domain error"
   ],
   "metadata": {
    "collapsed": false
   }
  }
 ],
 "metadata": {
  "kernelspec": {
   "display_name": "Python 3",
   "language": "python",
   "name": "python3"
  },
  "language_info": {
   "codemirror_mode": {
    "name": "ipython",
    "version": 2
   },
   "file_extension": ".py",
   "mimetype": "text/x-python",
   "name": "python",
   "nbconvert_exporter": "python",
   "pygments_lexer": "ipython2",
   "version": "2.7.6"
  }
 },
 "nbformat": 4,
 "nbformat_minor": 0
}
