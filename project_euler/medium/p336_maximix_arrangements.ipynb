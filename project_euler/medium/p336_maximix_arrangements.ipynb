{
 "cells": [
  {
   "cell_type": "markdown",
   "source": [
    "# Maximix Arrangements\n",
    "\n",
    "A train is used to transport four carriages in the order: ABCD. However, sometimes when the train arrives to collect the carriages they are not in the correct order.\n",
    "To rearrange the carriages they are all shunted on to a large rotating turntable. After the carriages are uncoupled at a specific point the train moves off the turntable pulling the carriages still attached with it. The remaining carriages are rotated 180 degrees. All of the carriages are then rejoined and this process is repeated as often as necessary in order to obtain the least number of uses of the turntable.\n",
    "Some arrangements, such as ADCB, can be solved easily: the carriages are separated between A and D, and after DCB are rotated the correct order has been achieved.\n",
    "\n",
    "However, Simple Simon, the train driver, is not known for his efficiency, so he always solves the problem by initially getting carriage A in the correct place, then carriage B, and so on.\n",
    "\n",
    "Using four carriages, the worst possible arrangements for Simon, which we shall call maximix arrangements, are DACB and DBAC; each requiring him five rotations (although, using the most efficient approach, they could be solved using just three rotations).\n",
    "\n",
    "The process he uses for DACB is as follows;\n",
    "\n",
    "D|ACB\n",
    "|DBCA\n",
    "AC|BD\n",
    "A|CDB\n",
    "AB|DC\n",
    "ABCD\n",
    "\n",
    "It can be verified that there are 24 maximix arrangements for six carriages, of which the tenth lexicographic maximix arrangement is DFAECB.\n",
    "\n",
    "Write a python program to find the 2011th lexicographic maximix arrangement for eleven carriages."
   ],
   "metadata": {
    "collapsed": false
   }
  },
  {
   "cell_type": "markdown",
   "source": [
    "## Results"
   ],
   "metadata": {
    "collapsed": false
   }
  },
  {
   "cell_type": "code",
   "execution_count": 1,
   "outputs": [
    {
     "name": "stdout",
     "output_type": "stream",
     "text": [
      "012345678910\n"
     ]
    }
   ],
   "source": [
    "def rotate_carriages(carriages, n):\n",
    "    return carriages[:n][::-1] + carriages[n:]\n",
    "\n",
    "def find_maximix(carriages, index, target_index):\n",
    "    if index == target_index:\n",
    "        return carriages\n",
    "\n",
    "    n = len(carriages)\n",
    "    for i in range(n-1, -1, -1):\n",
    "        new_carriages = rotate_carriages(carriages, i)\n",
    "        result = find_maximix(new_carriages, index + 1, target_index)\n",
    "        if result is not None:\n",
    "            return result\n",
    "\n",
    "    return None\n",
    "\n",
    "def get_maximix_arrangement(num_carriages, target_index):\n",
    "    carriages = list(range(num_carriages))\n",
    "    result = find_maximix(carriages, 0, target_index-1)\n",
    "    return ''.join(map(str, result))\n",
    "\n",
    "target_index = 2011\n",
    "num_carriages = 11\n",
    "maximix_arrangement = get_maximix_arrangement(num_carriages, target_index)\n",
    "print(maximix_arrangement)\n"
   ],
   "metadata": {
    "collapsed": false,
    "ExecuteTime": {
     "end_time": "2023-06-08T00:42:20.538591200Z",
     "start_time": "2023-06-08T00:42:20.518591900Z"
    }
   }
  },
  {
   "cell_type": "markdown",
   "source": [
    "## Correctness"
   ],
   "metadata": {
    "collapsed": false
   }
  },
  {
   "cell_type": "code",
   "execution_count": 2,
   "outputs": [
    {
     "name": "stderr",
     "output_type": "stream",
     "text": [
      "test_chatgpt (__main__.Testing) ... FAIL\n",
      "\n",
      "======================================================================\n",
      "FAIL: test_chatgpt (__main__.Testing)\n",
      "----------------------------------------------------------------------\n",
      "Traceback (most recent call last):\n",
      "  File \"C:\\Users\\matth\\AppData\\Local\\Temp\\ipykernel_17632\\2691669637.py\", line 7, in test_chatgpt\n",
      "    self.assertEqual(maximix_arrangement, solutions.p336)\n",
      "AssertionError: '012345678910' != 'CAGBIHEFJDK'\n",
      "- 012345678910\n",
      "+ CAGBIHEFJDK\n",
      "\n",
      "\n",
      "----------------------------------------------------------------------\n",
      "Ran 1 test in 0.002s\n",
      "\n",
      "FAILED (failures=1)\n"
     ]
    },
    {
     "data": {
      "text/plain": "<unittest.main.TestProgram at 0x289eef53d90>"
     },
     "execution_count": 2,
     "metadata": {},
     "output_type": "execute_result"
    }
   ],
   "source": [
    "import unittest\n",
    "import solutions\n",
    "\n",
    "class Testing(unittest.TestCase):\n",
    "\n",
    "    def test_chatgpt(self):\n",
    "        self.assertEqual(maximix_arrangement, solutions.p336)\n",
    "\n",
    "unittest.main(argv=[''], verbosity=2, exit=False)"
   ],
   "metadata": {
    "collapsed": false,
    "ExecuteTime": {
     "end_time": "2023-06-08T00:58:00.044872800Z",
     "start_time": "2023-06-08T00:57:59.978875600Z"
    }
   }
  },
  {
   "cell_type": "markdown",
   "source": [
    "Code terminates but does not output a meaningful response"
   ],
   "metadata": {
    "collapsed": false
   }
  }
 ],
 "metadata": {
  "kernelspec": {
   "display_name": "Python 3",
   "language": "python",
   "name": "python3"
  },
  "language_info": {
   "codemirror_mode": {
    "name": "ipython",
    "version": 2
   },
   "file_extension": ".py",
   "mimetype": "text/x-python",
   "name": "python",
   "nbconvert_exporter": "python",
   "pygments_lexer": "ipython2",
   "version": "2.7.6"
  }
 },
 "nbformat": 4,
 "nbformat_minor": 0
}
