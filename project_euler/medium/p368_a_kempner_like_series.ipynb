{
 "cells": [
  {
   "cell_type": "markdown",
   "source": [
    "# A Kempner-like series\n",
    "\n",
    "The harmonic series is well known to be divergent.\n",
    "\n",
    "If we however omit from this series every term where the denominator has a 9 in it, the series remarkably enough converges to approximately 22.9206766193.\n",
    "This modified harmonic series is called the Kempner series.\n",
    "\n",
    "Let us now consider another modified harmonic series by omitting from the harmonic series every term where the denominator has 3 or more equal consecutive digits. One can verify that out of the first 1200 terms of the harmonic series, only 20 terms will be omitted.\n",
    "These 20 omitted terms are:\n",
    "\n",
    "1/111, 1/222, 1/333, 1/444, 1/555, 1/666, 1/777, 1/888, 1/999, 1/1111, 1/1222, 1/1333, 1/1444, 1/1555, 1/1666, 1/1777, 1/1888, 1/1999\n",
    "\n",
    "This series converges as well.\n",
    "\n",
    "Write a python program to find the value the series converges to.\n",
    "Give your answer rounded to 10 digits behind the decimal point."
   ],
   "metadata": {
    "collapsed": false
   }
  },
  {
   "cell_type": "markdown",
   "source": [
    "## Results"
   ],
   "metadata": {
    "collapsed": false
   }
  },
  {
   "cell_type": "code",
   "execution_count": 1,
   "outputs": [
    {
     "name": "stdout",
     "output_type": "stream",
     "text": [
      "7.6322502159\n"
     ]
    }
   ],
   "source": [
    "def has_consecutive_digits(n):\n",
    "    digits = str(n)\n",
    "    for i in range(len(digits) - 2):\n",
    "        if digits[i] == digits[i + 1] == digits[i + 2]:\n",
    "            return True\n",
    "    return False\n",
    "\n",
    "def calculate_convergence():\n",
    "    convergence_sum = 0.0\n",
    "    omitted_terms = [\n",
    "        111, 222, 333, 444, 555, 666, 777, 888, 999, 1111,\n",
    "        1222, 1333, 1444, 1555, 1666, 1777, 1888, 1999\n",
    "    ]\n",
    "    for i in range(1, 1201):\n",
    "        if i not in omitted_terms and not has_consecutive_digits(i):\n",
    "            convergence_sum += 1 / i\n",
    "    return convergence_sum\n",
    "\n",
    "convergence_value = calculate_convergence()\n",
    "rounded_value = round(convergence_value, 10)\n",
    "print(rounded_value)\n"
   ],
   "metadata": {
    "collapsed": false,
    "ExecuteTime": {
     "end_time": "2023-06-08T00:47:53.327114Z",
     "start_time": "2023-06-08T00:47:53.313113800Z"
    }
   }
  },
  {
   "cell_type": "markdown",
   "source": [
    "## Correctness"
   ],
   "metadata": {
    "collapsed": false
   }
  },
  {
   "cell_type": "code",
   "execution_count": 4,
   "outputs": [
    {
     "name": "stderr",
     "output_type": "stream",
     "text": [
      "test_chatgpt (__main__.Testing) ... FAIL\n",
      "\n",
      "======================================================================\n",
      "FAIL: test_chatgpt (__main__.Testing)\n",
      "----------------------------------------------------------------------\n",
      "Traceback (most recent call last):\n",
      "  File \"C:\\Users\\matth\\AppData\\Local\\Temp\\ipykernel_13432\\3797524414.py\", line 7, in test_chatgpt\n",
      "    self.assertEqual(rounded_value, solutions.p368)\n",
      "AssertionError: 7.6322502159 != 253.6135092068\n",
      "\n",
      "----------------------------------------------------------------------\n",
      "Ran 1 test in 0.002s\n",
      "\n",
      "FAILED (failures=1)\n"
     ]
    },
    {
     "data": {
      "text/plain": "<unittest.main.TestProgram at 0x1f218791b50>"
     },
     "execution_count": 4,
     "metadata": {},
     "output_type": "execute_result"
    }
   ],
   "source": [
    "import unittest\n",
    "import solutions\n",
    "\n",
    "class Testing(unittest.TestCase):\n",
    "\n",
    "    def test_chatgpt(self):\n",
    "        self.assertEqual(rounded_value, solutions.p368)\n",
    "\n",
    "unittest.main(argv=[''], verbosity=2, exit=False)"
   ],
   "metadata": {
    "collapsed": false,
    "ExecuteTime": {
     "end_time": "2023-06-08T00:57:19.129792500Z",
     "start_time": "2023-06-08T00:57:19.095794700Z"
    }
   }
  },
  {
   "cell_type": "markdown",
   "source": [
    "## Discussion\n",
    "\n",
    "Incorrect answer"
   ],
   "metadata": {
    "collapsed": false
   }
  }
 ],
 "metadata": {
  "kernelspec": {
   "display_name": "Python 3",
   "language": "python",
   "name": "python3"
  },
  "language_info": {
   "codemirror_mode": {
    "name": "ipython",
    "version": 2
   },
   "file_extension": ".py",
   "mimetype": "text/x-python",
   "name": "python",
   "nbconvert_exporter": "python",
   "pygments_lexer": "ipython2",
   "version": "2.7.6"
  }
 },
 "nbformat": 4,
 "nbformat_minor": 0
}
