{
 "cells": [
  {
   "cell_type": "markdown",
   "source": [
    "# Resilience\n",
    "\n",
    "A positive fraction whose numerator is less than its denominator is called a proper fraction.\n",
    "For any denominator, d, there will be d−1 proper fractions; for example, with d = 12:\n",
    "1/12 , 2/12 , 3/12 , 4/12 , 5/12 , 6/12 , 7/12 , 8/12 , 9/12 , 10/12 , 11/12.\n",
    "\n",
    "We shall call a fraction that cannot be cancelled down a resilient fraction.\n",
    "Furthermore we shall define the resilience of a denominator, R(d), to be the ratio of its proper fractions that are resilient; for example, R(12) = 4/11.\n",
    "In fact, d = 12 is the smallest denominator having a resilience R(d) < 4/10.\n",
    "\n",
    "Write a python program which finds the smallest denominator d, having a resilience R(d) < 15499/94744."
   ],
   "metadata": {
    "collapsed": false
   }
  },
  {
   "cell_type": "markdown",
   "source": [
    "## Expected response\n",
    "\n",
    "This problem is reasonably easy to grasp at a base level, coding a brute force approach which constitutes a function that checks whether a fraction is resilient and a simple loop which counts how many of the d-1 proper fractions are resilient would be enough to solve this problem for low values of R(d). This would be the expected result from the model but will not produce an answer in a reasonable amount of time."
   ],
   "metadata": {
    "collapsed": false
   }
  },
  {
   "cell_type": "markdown",
   "source": [
    "## Potential problems"
   ],
   "metadata": {
    "collapsed": false
   }
  },
  {
   "cell_type": "markdown",
   "source": [
    "## Results"
   ],
   "metadata": {
    "collapsed": false
   }
  },
  {
   "cell_type": "markdown",
   "source": [
    "To solve this problem, we need to first define a function that checks if a given fraction is resilient. We can do this by checking if the greatest common divisor of the numerator and denominator is 1 (i.e., they are coprime).\n",
    "\n",
    "Next, we can iterate over all possible denominators starting from 2 and count the number of proper fractions that are resilient. We can then calculate the resilience of each denominator and compare it with the given threshold. Once we find the smallest denominator that satisfies the condition, we can return it.\n",
    "\n",
    "Here's the Python code that implements this algorithm:"
   ],
   "metadata": {
    "collapsed": false
   }
  },
  {
   "cell_type": "markdown",
   "source": [
    "The program outputs 892371480 as the smallest denominator that has a resilience less than 15499/94744."
   ],
   "metadata": {
    "collapsed": false
   }
  },
  {
   "cell_type": "markdown",
   "source": [
    "The model is trying to use the deprecated gcd function again, gcd now belongs to the math module. Interestingly, the model knows the correct answer so this problem is clearly within the training dataset densely enough that it can produce a rote learned result.\n",
    "\n",
    "Note that due to the size of the search space the program will not terminate in a reasonable amount of time if the module error is fixed."
   ],
   "metadata": {
    "collapsed": false
   }
  },
  {
   "cell_type": "markdown",
   "source": [
    "## Correctness"
   ],
   "metadata": {
    "collapsed": false
   }
  }
 ],
 "metadata": {
  "kernelspec": {
   "display_name": "Python 3",
   "language": "python",
   "name": "python3"
  },
  "language_info": {
   "codemirror_mode": {
    "name": "ipython",
    "version": 2
   },
   "file_extension": ".py",
   "mimetype": "text/x-python",
   "name": "python",
   "nbconvert_exporter": "python",
   "pygments_lexer": "ipython2",
   "version": "2.7.6"
  }
 },
 "nbformat": 4,
 "nbformat_minor": 0
}
