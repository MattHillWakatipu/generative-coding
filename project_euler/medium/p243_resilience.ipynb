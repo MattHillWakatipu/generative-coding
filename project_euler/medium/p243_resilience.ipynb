{
 "cells": [
  {
   "cell_type": "markdown",
   "source": [
    "# Resilience\n",
    "\n",
    "A positive fraction whose numerator is less than its denominator is called a proper fraction.\n",
    "For any denominator, d, there will be d−1 proper fractions; for example, with d = 12:\n",
    "1/12 , 2/12 , 3/12 , 4/12 , 5/12 , 6/12 , 7/12 , 8/12 , 9/12 , 10/12 , 11/12.\n",
    "\n",
    "We shall call a fraction that cannot be cancelled down a resilient fraction.\n",
    "Furthermore we shall define the resilience of a denominator, R(d), to be the ratio of its proper fractions that are resilient; for example, R(12) = 4/11.\n",
    "In fact, d = 12 is the smallest denominator having a resilience R(d) < 4/10.\n",
    "\n",
    "Write a python program which finds the smallest denominator d, having a resilience R(d) < 15499/94744."
   ],
   "metadata": {
    "collapsed": false
   }
  },
  {
   "cell_type": "markdown",
   "source": [
    "## Expected response\n",
    "\n",
    "This problem is reasonably easy to grasp at a base level, coding a brute force approach which constitutes a function that checks whether a fraction is resilient and a simple loop which counts how many of the d-1 proper fractions are resilient would be enough to solve this problem for low values of R(d). This would be the expected result from the model but will not produce an answer in a reasonable amount of time."
   ],
   "metadata": {
    "collapsed": false
   }
  },
  {
   "cell_type": "markdown",
   "source": [
    "## Potential problems"
   ],
   "metadata": {
    "collapsed": false
   }
  },
  {
   "cell_type": "markdown",
   "source": [
    "## Results"
   ],
   "metadata": {
    "collapsed": false
   }
  },
  {
   "cell_type": "code",
   "execution_count": 1,
   "outputs": [
    {
     "ename": "KeyboardInterrupt",
     "evalue": "",
     "output_type": "error",
     "traceback": [
      "\u001B[1;31m---------------------------------------------------------------------------\u001B[0m",
      "\u001B[1;31mKeyboardInterrupt\u001B[0m                         Traceback (most recent call last)",
      "Cell \u001B[1;32mIn[1], line 24\u001B[0m\n\u001B[0;32m     21\u001B[0m         denominator \u001B[38;5;241m+\u001B[39m\u001B[38;5;241m=\u001B[39m \u001B[38;5;241m1\u001B[39m\n\u001B[0;32m     23\u001B[0m \u001B[38;5;66;03m# Find the smallest denominator\u001B[39;00m\n\u001B[1;32m---> 24\u001B[0m smallest_denominator \u001B[38;5;241m=\u001B[39m \u001B[43mfind_smallest_denominator\u001B[49m\u001B[43m(\u001B[49m\u001B[43m)\u001B[49m\n\u001B[0;32m     25\u001B[0m \u001B[38;5;28mprint\u001B[39m(\u001B[38;5;124m\"\u001B[39m\u001B[38;5;124mSmallest denominator with R(d) < 15499/94744:\u001B[39m\u001B[38;5;124m\"\u001B[39m, smallest_denominator)\n",
      "Cell \u001B[1;32mIn[1], line 18\u001B[0m, in \u001B[0;36mfind_smallest_denominator\u001B[1;34m()\u001B[0m\n\u001B[0;32m     15\u001B[0m denominator \u001B[38;5;241m=\u001B[39m \u001B[38;5;241m2\u001B[39m\n\u001B[0;32m     17\u001B[0m \u001B[38;5;28;01mwhile\u001B[39;00m \u001B[38;5;28;01mTrue\u001B[39;00m:\n\u001B[1;32m---> 18\u001B[0m     resilience \u001B[38;5;241m=\u001B[39m \u001B[43mcalculate_resilience\u001B[49m\u001B[43m(\u001B[49m\u001B[43mdenominator\u001B[49m\u001B[43m)\u001B[49m\n\u001B[0;32m     19\u001B[0m     \u001B[38;5;28;01mif\u001B[39;00m resilience \u001B[38;5;241m<\u001B[39m target_resilience:\n\u001B[0;32m     20\u001B[0m         \u001B[38;5;28;01mreturn\u001B[39;00m denominator\n",
      "Cell \u001B[1;32mIn[1], line 9\u001B[0m, in \u001B[0;36mcalculate_resilience\u001B[1;34m(denominator)\u001B[0m\n\u001B[0;32m      7\u001B[0m count \u001B[38;5;241m=\u001B[39m \u001B[38;5;241m0\u001B[39m\n\u001B[0;32m      8\u001B[0m \u001B[38;5;28;01mfor\u001B[39;00m numerator \u001B[38;5;129;01min\u001B[39;00m \u001B[38;5;28mrange\u001B[39m(\u001B[38;5;241m1\u001B[39m, denominator):\n\u001B[1;32m----> 9\u001B[0m     \u001B[38;5;28;01mif\u001B[39;00m \u001B[43mgcd\u001B[49m\u001B[43m(\u001B[49m\u001B[43mnumerator\u001B[49m\u001B[43m,\u001B[49m\u001B[43m \u001B[49m\u001B[43mdenominator\u001B[49m\u001B[43m)\u001B[49m \u001B[38;5;241m==\u001B[39m \u001B[38;5;241m1\u001B[39m:\n\u001B[0;32m     10\u001B[0m         count \u001B[38;5;241m+\u001B[39m\u001B[38;5;241m=\u001B[39m \u001B[38;5;241m1\u001B[39m\n\u001B[0;32m     11\u001B[0m \u001B[38;5;28;01mreturn\u001B[39;00m count\n",
      "Cell \u001B[1;32mIn[1], line 3\u001B[0m, in \u001B[0;36mgcd\u001B[1;34m(a, b)\u001B[0m\n\u001B[0;32m      1\u001B[0m \u001B[38;5;28;01mdef\u001B[39;00m \u001B[38;5;21mgcd\u001B[39m(a, b):\n\u001B[0;32m      2\u001B[0m     \u001B[38;5;28;01mwhile\u001B[39;00m b \u001B[38;5;241m!=\u001B[39m \u001B[38;5;241m0\u001B[39m:\n\u001B[1;32m----> 3\u001B[0m         a, b \u001B[38;5;241m=\u001B[39m b, \u001B[43ma\u001B[49m\u001B[43m \u001B[49m\u001B[38;5;241;43m%\u001B[39;49m\u001B[43m \u001B[49m\u001B[43mb\u001B[49m\n\u001B[0;32m      4\u001B[0m     \u001B[38;5;28;01mreturn\u001B[39;00m a\n",
      "\u001B[1;31mKeyboardInterrupt\u001B[0m: "
     ]
    }
   ],
   "source": [
    "def gcd(a, b):\n",
    "    while b != 0:\n",
    "        a, b = b, a % b\n",
    "    return a\n",
    "\n",
    "def calculate_resilience(denominator):\n",
    "    count = 0\n",
    "    for numerator in range(1, denominator):\n",
    "        if gcd(numerator, denominator) == 1:\n",
    "            count += 1\n",
    "    return count\n",
    "\n",
    "def find_smallest_denominator():\n",
    "    target_resilience = 15499/94744\n",
    "    denominator = 2\n",
    "\n",
    "    while True:\n",
    "        resilience = calculate_resilience(denominator)\n",
    "        if resilience < target_resilience:\n",
    "            return denominator\n",
    "        denominator += 1\n",
    "\n",
    "# Find the smallest denominator\n",
    "smallest_denominator = find_smallest_denominator()\n",
    "print(\"Smallest denominator with R(d) < 15499/94744:\", smallest_denominator)\n"
   ],
   "metadata": {
    "collapsed": false,
    "ExecuteTime": {
     "end_time": "2023-06-08T01:04:00.236550500Z",
     "start_time": "2023-06-08T00:59:00.575249200Z"
    }
   }
  },
  {
   "cell_type": "markdown",
   "source": [
    "## Correctness"
   ],
   "metadata": {
    "collapsed": false
   }
  },
  {
   "cell_type": "code",
   "execution_count": null,
   "outputs": [],
   "source": [
    "import unittest\n",
    "import solutions\n",
    "\n",
    "class Testing(unittest.TestCase):\n",
    "\n",
    "    def test_chatgpt(self):\n",
    "        self.assertEqual(smallest_denominator, solutions.p243)\n",
    "\n",
    "unittest.main(argv=[''], verbosity=2, exit=False)"
   ],
   "metadata": {
    "collapsed": false
   }
  },
  {
   "cell_type": "markdown",
   "source": [
    "## Discussion\n",
    "\n",
    "Timeout."
   ],
   "metadata": {
    "collapsed": false
   }
  }
 ],
 "metadata": {
  "kernelspec": {
   "display_name": "Python 3",
   "language": "python",
   "name": "python3"
  },
  "language_info": {
   "codemirror_mode": {
    "name": "ipython",
    "version": 2
   },
   "file_extension": ".py",
   "mimetype": "text/x-python",
   "name": "python",
   "nbconvert_exporter": "python",
   "pygments_lexer": "ipython2",
   "version": "2.7.6"
  }
 },
 "nbformat": 4,
 "nbformat_minor": 0
}
