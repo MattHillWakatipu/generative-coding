{
 "cells": [
  {
   "cell_type": "markdown",
   "source": [
    "# Platonic Dice\n",
    "\n",
    "An unbiased single 4-sided die is thrown and its value, T, is noted.\n",
    "T unbiased 6-sided dice are thrown and their scores are added together. The sum, C, is noted.\n",
    "C unbiased 8-sided dice are thrown and their scores are added together. The sum, O, is noted.\n",
    "O unbiased 12-sided dice are thrown and their scores are added together. The sum, D, is noted.\n",
    "D unbiased 20-sided dice are thrown and their scores are added together. The sum, I, is noted.\n",
    "Write a python program to find the variance of I, and give your answer rounded to 4 decimal places."
   ],
   "metadata": {
    "collapsed": false
   }
  },
  {
   "cell_type": "markdown",
   "source": [
    "## Results"
   ],
   "metadata": {
    "collapsed": false
   }
  },
  {
   "cell_type": "code",
   "execution_count": 1,
   "outputs": [
    {
     "name": "stdout",
     "output_type": "stream",
     "text": [
      "Variance of I: 19460.1777\n"
     ]
    }
   ],
   "source": [
    "import random\n",
    "import statistics\n",
    "\n",
    "def roll_dice(num_rolls, num_sides):\n",
    "    return sum(random.randint(1, num_sides) for _ in range(num_rolls))\n",
    "\n",
    "# Simulating the rolls\n",
    "T = roll_dice(1, 4)\n",
    "C = roll_dice(T, 6)\n",
    "O = roll_dice(C, 8)\n",
    "D = roll_dice(O, 12)\n",
    "I = roll_dice(D, 20)\n",
    "\n",
    "# Calculating the variance\n",
    "num_simulations = 10_000  # Number of simulations to run\n",
    "dice_rolls = [roll_dice(D, 20) for _ in range(num_simulations)]\n",
    "variance_I = statistics.variance(dice_rolls)\n",
    "\n",
    "# Displaying the result\n",
    "print(\"Variance of I: {:.4f}\".format(variance_I))"
   ],
   "metadata": {
    "collapsed": false,
    "ExecuteTime": {
     "end_time": "2023-06-08T00:55:17.349526Z",
     "start_time": "2023-06-08T00:55:12.598032700Z"
    }
   }
  },
  {
   "cell_type": "markdown",
   "source": [
    "## Correctness"
   ],
   "metadata": {
    "collapsed": false
   }
  },
  {
   "cell_type": "code",
   "execution_count": 3,
   "outputs": [
    {
     "name": "stderr",
     "output_type": "stream",
     "text": [
      "test_chatgpt (__main__.Testing) ... FAIL\n",
      "\n",
      "======================================================================\n",
      "FAIL: test_chatgpt (__main__.Testing)\n",
      "----------------------------------------------------------------------\n",
      "Traceback (most recent call last):\n",
      "  File \"C:\\Users\\matth\\AppData\\Local\\Temp\\ipykernel_10656\\4219846226.py\", line 7, in test_chatgpt\n",
      "    self.assertEqual(variance_I, solutions.p389)\n",
      "AssertionError: 19460.17766892689 != 2406376.3623\n",
      "\n",
      "----------------------------------------------------------------------\n",
      "Ran 1 test in 0.003s\n",
      "\n",
      "FAILED (failures=1)\n"
     ]
    },
    {
     "data": {
      "text/plain": "<unittest.main.TestProgram at 0x254ef93e430>"
     },
     "execution_count": 3,
     "metadata": {},
     "output_type": "execute_result"
    }
   ],
   "source": [
    "import unittest\n",
    "import solutions\n",
    "\n",
    "class Testing(unittest.TestCase):\n",
    "\n",
    "    def test_chatgpt(self):\n",
    "        self.assertEqual(variance_I, solutions.p389)\n",
    "\n",
    "unittest.main(argv=[''], verbosity=2, exit=False)"
   ],
   "metadata": {
    "collapsed": false,
    "ExecuteTime": {
     "end_time": "2023-06-08T00:56:38.544792200Z",
     "start_time": "2023-06-08T00:56:38.511795300Z"
    }
   }
  },
  {
   "cell_type": "markdown",
   "source": [
    "## Discussion\n",
    "\n",
    "Wrong answer provided."
   ],
   "metadata": {
    "collapsed": false
   }
  }
 ],
 "metadata": {
  "kernelspec": {
   "display_name": "Python 3",
   "language": "python",
   "name": "python3"
  },
  "language_info": {
   "codemirror_mode": {
    "name": "ipython",
    "version": 2
   },
   "file_extension": ".py",
   "mimetype": "text/x-python",
   "name": "python",
   "nbconvert_exporter": "python",
   "pygments_lexer": "ipython2",
   "version": "2.7.6"
  }
 },
 "nbformat": 4,
 "nbformat_minor": 0
}
