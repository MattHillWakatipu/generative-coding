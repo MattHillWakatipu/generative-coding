{
 "cells": [
  {
   "cell_type": "code",
   "execution_count": 33,
   "outputs": [
    {
     "name": "stdout",
     "output_type": "stream",
     "text": [
      "[39, 50, 20, 21, 42, 45, 1, 26, 33, 34]\n"
     ]
    }
   ],
   "source": [
    "from random import sample\n",
    "\n",
    "batch1 = sample(population=[x for x in range(1,51)],\n",
    "                k=10)\n",
    "print(batch1)"
   ],
   "metadata": {
    "collapsed": false
   }
  },
  {
   "cell_type": "code",
   "execution_count": 34,
   "outputs": [
    {
     "name": "stdout",
     "output_type": "stream",
     "text": [
      "[336, 208, 385, 243, 202, 397, 389, 368, 375, 337]\n"
     ]
    }
   ],
   "source": [
    "batch2 = sample(population=[x for x in range(200,501)],\n",
    "                k=10)\n",
    "print(batch2)"
   ],
   "metadata": {
    "collapsed": false
   }
  },
  {
   "cell_type": "code",
   "execution_count": 35,
   "outputs": [
    {
     "name": "stdout",
     "output_type": "stream",
     "text": [
      "[789, 801, 828, 826, 822, 820, 817, 794, 823, 803]\n"
     ]
    }
   ],
   "source": [
    "no_solution = [780, 792, 797, 805, 806, 812, 814, 818, 821, 824, 825, 827]\n",
    "batch3 = sample(population=[x for x in range(780, 829) if x not in no_solution],\n",
    "                k=10)\n",
    "print(batch3)"
   ],
   "metadata": {
    "collapsed": false
   }
  },
  {
   "cell_type": "code",
   "execution_count": 36,
   "outputs": [
    {
     "name": "stdout",
     "output_type": "stream",
     "text": [
      "[1, 20, 21, 26, 33, 34, 39, 42, 45, 50, 202, 208, 243, 336, 337, 368, 375, 385, 389, 397, 789, 794, 801, 803, 817, 820, 822, 823, 826, 828]\n"
     ]
    }
   ],
   "source": [
    "final_selection = batch1 + batch2 + batch3\n",
    "final_selection.sort()\n",
    "print(final_selection)"
   ],
   "metadata": {
    "collapsed": false
   }
  }
 ],
 "metadata": {
  "kernelspec": {
   "display_name": "Python 3",
   "language": "python",
   "name": "python3"
  },
  "language_info": {
   "codemirror_mode": {
    "name": "ipython",
    "version": 2
   },
   "file_extension": ".py",
   "mimetype": "text/x-python",
   "name": "python",
   "nbconvert_exporter": "python",
   "pygments_lexer": "ipython2",
   "version": "2.7.6"
  }
 },
 "nbformat": 4,
 "nbformat_minor": 0
}
