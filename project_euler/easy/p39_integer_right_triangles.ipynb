{
 "cells": [
  {
   "cell_type": "markdown",
   "source": [
    "# Integer right triangles\n",
    "\n",
    "If p is the perimeter of a right angle triangle with integral length sides, {a,b,c}, there are exactly three solutions for p = 120.\n",
    "\n",
    "{20,48,52}, {24,45,51}, {30,40,50}\n",
    "\n",
    "Write a python program to find for which value of p ≤ 1000, the number of solutions is maximised."
   ],
   "metadata": {
    "collapsed": false
   }
  },
  {
   "cell_type": "markdown",
   "source": [
    "## Expected response\n",
    "\n",
    "Due to only needing to check p<= 1000 a brute force solution which iterates through and checks each potential triangle should arrive at an answer in a reasonable amount of time. This is the expected response however a more elegant solution might use pythagorean triples instead."
   ],
   "metadata": {
    "collapsed": false
   }
  },
  {
   "cell_type": "markdown",
   "source": [
    "## Potential problems\n",
    "\n",
    "Quite a straight forward problem, we expect no major issues."
   ],
   "metadata": {
    "collapsed": false
   }
  },
  {
   "cell_type": "markdown",
   "source": [
    "## Results"
   ],
   "metadata": {
    "collapsed": false
   }
  },
  {
   "cell_type": "code",
   "execution_count": 9,
   "outputs": [
    {
     "name": "stdout",
     "output_type": "stream",
     "text": [
      "The value of p for which the number of solutions is maximized is: 840\n"
     ]
    }
   ],
   "source": [
    "from collections import defaultdict\n",
    "\n",
    "perimeter_count = defaultdict(int)\n",
    "answer = 0 # Manually added to store answer for tests\n",
    "\n",
    "for a in range(1, 1000):\n",
    "    for b in range(a, 1000):\n",
    "        c = (a**2 + b**2)**0.5  # Calculate hypotenuse\n",
    "        if c.is_integer():\n",
    "            p = int(a + b + c)\n",
    "            if p <= 1000:\n",
    "                perimeter_count[p] += 1\n",
    "\n",
    "max_count = max(perimeter_count.values())\n",
    "\n",
    "for p, count in perimeter_count.items():\n",
    "    if count == max_count:\n",
    "        print(\"The value of p for which the number of solutions is maximized is:\", p)\n",
    "        answer = p # Manually added to store answer for tests"
   ],
   "metadata": {
    "collapsed": false
   }
  },
  {
   "cell_type": "markdown",
   "source": [
    "## Correctness"
   ],
   "metadata": {
    "collapsed": false
   }
  },
  {
   "cell_type": "code",
   "execution_count": 4,
   "outputs": [
    {
     "name": "stderr",
     "output_type": "stream",
     "text": [
      "test_chatgpt (__main__.Testing) ... ok\n",
      "test_codex (__main__.Testing) ... ok\n",
      "\n",
      "----------------------------------------------------------------------\n",
      "Ran 2 tests in 0.002s\n",
      "\n",
      "OK\n"
     ]
    },
    {
     "data": {
      "text/plain": "<unittest.main.TestProgram at 0x161d036c160>"
     },
     "execution_count": 4,
     "metadata": {},
     "output_type": "execute_result"
    }
   ],
   "source": [
    "import unittest\n",
    "import solutions\n",
    "\n",
    "class Testing(unittest.TestCase):\n",
    "\n",
    "    def test_chatgpt(self):\n",
    "        self.assertEqual(answer, solutions.p39)\n",
    "\n",
    "    def test_codex(self):\n",
    "        pass\n",
    "\n",
    "unittest.main(argv=[''], verbosity=2, exit=False)"
   ],
   "metadata": {
    "collapsed": false
   }
  },
  {
   "cell_type": "markdown",
   "source": [
    "## Discussion\n",
    "\n",
    "While the model uses a brute force style approach with some optimizations made to calculate the hypotenuse using the pythagorean theorem. The way that the model retrieves the answer from the dictionary is very clumsy, and while it does work could be tidied easily to something such as the following one-liner.\n",
    "```python\n",
    "max_value = max(perimeter_count, key=perimeter_count.get)\n",
    "```"
   ],
   "metadata": {
    "collapsed": false
   }
  }
 ],
 "metadata": {
  "kernelspec": {
   "display_name": "Python 3",
   "language": "python",
   "name": "python3"
  },
  "language_info": {
   "codemirror_mode": {
    "name": "ipython",
    "version": 2
   },
   "file_extension": ".py",
   "mimetype": "text/x-python",
   "name": "python",
   "nbconvert_exporter": "python",
   "pygments_lexer": "ipython2",
   "version": "2.7.6"
  }
 },
 "nbformat": 4,
 "nbformat_minor": 0
}
