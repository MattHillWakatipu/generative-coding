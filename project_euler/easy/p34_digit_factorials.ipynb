{
 "cells": [
  {
   "cell_type": "markdown",
   "source": [
    "# Digit factorials\n",
    "\n",
    "145 is a curious number, as 1! + 4! + 5! = 1 + 24 + 120 = 145.\n",
    "\n",
    "Write a python program to find the sum of all numbers which are equal to the sum of the factorial of their digits.\n",
    "\n",
    "Note: As 1! = 1 and 2! = 2 are not sums they are not included."
   ],
   "metadata": {
    "collapsed": false
   }
  },
  {
   "cell_type": "markdown",
   "source": [
    "## Expected response\n",
    "\n",
    "As we are summing the digit factorials we need only know factorials up to 9, therefore we ought to precompute each of these factorials and store them in a collection. From there we iterate up to our upper bound, converting each number into a string, so we can easily iterate through its digits and sum them. It is likely that the code provided does not terminate due to not providing an upper bound, however, if an upper bound is provided it demonstrates a reasonable amount of higher reasoning."
   ],
   "metadata": {
    "collapsed": false
   }
  },
  {
   "cell_type": "markdown",
   "source": [
    "## Potential problems\n",
    "\n",
    "As the problem does not provide constraints we need to estimate some form of upper bound lest we get stuck in an infinite loop."
   ],
   "metadata": {
    "collapsed": false
   }
  },
  {
   "cell_type": "markdown",
   "source": [
    "## Results"
   ],
   "metadata": {
    "collapsed": false
   }
  },
  {
   "cell_type": "code",
   "execution_count": 1,
   "outputs": [
    {
     "name": "stdout",
     "output_type": "stream",
     "text": [
      "40730\n"
     ]
    }
   ],
   "source": [
    "def factorial(n):\n",
    "    \"\"\"\n",
    "    Returns the factorial of a given number.\n",
    "    \"\"\"\n",
    "    if n == 0 or n == 1:\n",
    "        return 1\n",
    "    else:\n",
    "        return n * factorial(n-1)\n",
    "\n",
    "# Initialize variables\n",
    "curious_numbers = []\n",
    "upper_limit = factorial(9) * 7 # 7 is the number of digits in the largest 7-digit number whose sum of factorials of digits equals the number itself\n",
    "\n",
    "# Iterate through all numbers from 3 to upper_limit\n",
    "for i in range(3, upper_limit + 1):\n",
    "    # Get the sum of factorials of digits\n",
    "    digit_factorial_sum = sum([factorial(int(d)) for d in str(i)])\n",
    "    # Check if the sum is equal to the number itself\n",
    "    if digit_factorial_sum == i:\n",
    "        curious_numbers.append(i)\n",
    "\n",
    "# Print the sum of curious numbers\n",
    "print(sum(curious_numbers))"
   ],
   "metadata": {
    "collapsed": false
   }
  },
  {
   "cell_type": "markdown",
   "source": [
    "## Correctness"
   ],
   "metadata": {
    "collapsed": false
   }
  },
  {
   "cell_type": "code",
   "execution_count": 4,
   "outputs": [
    {
     "name": "stderr",
     "output_type": "stream",
     "text": [
      "test_chatgpt (__main__.Testing) ... ok\n",
      "test_codex (__main__.Testing) ... ok\n",
      "\n",
      "----------------------------------------------------------------------\n",
      "Ran 2 tests in 0.003s\n",
      "\n",
      "OK\n"
     ]
    },
    {
     "data": {
      "text/plain": "<unittest.main.TestProgram at 0x1cb3d15c9a0>"
     },
     "execution_count": 4,
     "metadata": {},
     "output_type": "execute_result"
    }
   ],
   "source": [
    "import unittest\n",
    "import solutions\n",
    "\n",
    "class Testing(unittest.TestCase):\n",
    "\n",
    "    def test_chatgpt(self):\n",
    "        self.assertEqual(sum(curious_numbers), solutions.p34)\n",
    "\n",
    "    def test_codex(self):\n",
    "        pass\n",
    "\n",
    "unittest.main(argv=[''], verbosity=2, exit=False)"
   ],
   "metadata": {
    "collapsed": false
   }
  },
  {
   "cell_type": "markdown",
   "source": [
    "## Discussion\n",
    "\n",
    "The program correctly provides an upperbound and the correct final answer. This is quite an interesting result as it displays some level of higher reasoning, however, as this is an example well within the training dataset it may not be as impressive of a result. Another interesting result is that instead of utilizing the inbuilt factorial function in the Math module it creates a recursive factorial function itself. Another thing to note is that this solution does not take advantage of the fact that we only need factorials up to 9, and could thus make a major optimization by using a precomputed table."
   ],
   "metadata": {
    "collapsed": false
   }
  }
 ],
 "metadata": {
  "kernelspec": {
   "display_name": "Python 3",
   "language": "python",
   "name": "python3"
  },
  "language_info": {
   "codemirror_mode": {
    "name": "ipython",
    "version": 2
   },
   "file_extension": ".py",
   "mimetype": "text/x-python",
   "name": "python",
   "nbconvert_exporter": "python",
   "pygments_lexer": "ipython2",
   "version": "2.7.6"
  }
 },
 "nbformat": 4,
 "nbformat_minor": 0
}
