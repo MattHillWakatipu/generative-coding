{
 "cells": [
  {
   "cell_type": "markdown",
   "source": [
    "# Digit cancelling fractions\n",
    "\n",
    "The fraction 49/98 is a curious fraction, as an inexperienced mathematician in attempting to simplify it may incorrectly believe that 49/98 = 4/8, which is correct, is obtained by cancelling the 9s.\n",
    "\n",
    "We shall consider fractions like, 30/50 = 3/5, to be trivial examples.\n",
    "\n",
    "There are exactly four non-trivial examples of this type of fraction, less than one in value, and containing two digits in the numerator and denominator.\n",
    "\n",
    "Write a python program to find the value of the denominator if the product of these four fractions is given in its lowest common terms."
   ],
   "metadata": {
    "collapsed": false
   }
  },
  {
   "cell_type": "markdown",
   "source": [
    "## Expected response\n",
    "\n",
    "What do we expect the model to do?"
   ],
   "metadata": {
    "collapsed": false
   }
  },
  {
   "cell_type": "markdown",
   "source": [
    "## Potential problems\n",
    "\n",
    "What could go wrong here?"
   ],
   "metadata": {
    "collapsed": false
   }
  },
  {
   "cell_type": "markdown",
   "source": [
    "## Results"
   ],
   "metadata": {
    "collapsed": false
   }
  },
  {
   "cell_type": "code",
   "execution_count": 2,
   "outputs": [
    {
     "ename": "ZeroDivisionError",
     "evalue": "division by zero",
     "output_type": "error",
     "traceback": [
      "\u001B[1;31m---------------------------------------------------------------------------\u001B[0m",
      "\u001B[1;31mZeroDivisionError\u001B[0m                         Traceback (most recent call last)",
      "Cell \u001B[1;32mIn[2], line 12\u001B[0m\n\u001B[0;32m      8\u001B[0m \u001B[38;5;28;01mfor\u001B[39;00m numerator \u001B[38;5;129;01min\u001B[39;00m \u001B[38;5;28mrange\u001B[39m(\u001B[38;5;241m10\u001B[39m, \u001B[38;5;241m100\u001B[39m):\n\u001B[0;32m      9\u001B[0m     \u001B[38;5;28;01mfor\u001B[39;00m denominator \u001B[38;5;129;01min\u001B[39;00m \u001B[38;5;28mrange\u001B[39m(numerator \u001B[38;5;241m+\u001B[39m \u001B[38;5;241m1\u001B[39m, \u001B[38;5;241m100\u001B[39m):\n\u001B[0;32m     10\u001B[0m         \u001B[38;5;66;03m# check if the fraction is a curious fraction\u001B[39;00m\n\u001B[0;32m     11\u001B[0m         \u001B[38;5;28;01mif\u001B[39;00m (numerator \u001B[38;5;241m%\u001B[39m \u001B[38;5;241m10\u001B[39m \u001B[38;5;241m==\u001B[39m denominator \u001B[38;5;241m/\u001B[39m\u001B[38;5;241m/\u001B[39m \u001B[38;5;241m10\u001B[39m \u001B[38;5;129;01mand\u001B[39;00m\n\u001B[1;32m---> 12\u001B[0m             \u001B[43m(\u001B[49m\u001B[43mnumerator\u001B[49m\u001B[43m \u001B[49m\u001B[38;5;241;43m/\u001B[39;49m\u001B[38;5;241;43m/\u001B[39;49m\u001B[43m \u001B[49m\u001B[38;5;241;43m10\u001B[39;49m\u001B[43m)\u001B[49m\u001B[43m \u001B[49m\u001B[38;5;241;43m/\u001B[39;49m\u001B[43m \u001B[49m\u001B[43m(\u001B[49m\u001B[43mdenominator\u001B[49m\u001B[43m \u001B[49m\u001B[38;5;241;43m%\u001B[39;49m\u001B[43m \u001B[49m\u001B[38;5;241;43m10\u001B[39;49m\u001B[43m)\u001B[49m \u001B[38;5;241m==\u001B[39m numerator \u001B[38;5;241m/\u001B[39m denominator):\n\u001B[0;32m     13\u001B[0m             \u001B[38;5;66;03m# multiply numerator and denominator products by the fraction\u001B[39;00m\n\u001B[0;32m     14\u001B[0m             num_product \u001B[38;5;241m*\u001B[39m\u001B[38;5;241m=\u001B[39m numerator\n\u001B[0;32m     15\u001B[0m             den_product \u001B[38;5;241m*\u001B[39m\u001B[38;5;241m=\u001B[39m denominator\n",
      "\u001B[1;31mZeroDivisionError\u001B[0m: division by zero"
     ]
    }
   ],
   "source": [
    "from fractions import Fraction\n",
    "\n",
    "# initialize numerator and denominator products\n",
    "num_product = 1\n",
    "den_product = 1\n",
    "\n",
    "# iterate through possible numerators and denominators\n",
    "for numerator in range(10, 100):\n",
    "    for denominator in range(numerator + 1, 100):\n",
    "        # check if the fraction is a curious fraction\n",
    "        if (numerator % 10 == denominator // 10 and\n",
    "            (numerator // 10) / (denominator % 10) == numerator / denominator):\n",
    "            # multiply numerator and denominator products by the fraction\n",
    "            num_product *= numerator\n",
    "            den_product *= denominator\n",
    "\n",
    "# simplify the product fraction\n",
    "product_fraction = Fraction(num_product, den_product)\n",
    "simplified_product_fraction = product_fraction / product_fraction.gcd(num_product, den_product)\n",
    "\n",
    "# print the denominator of the simplified product fraction\n",
    "print(simplified_product_fraction.denominator)"
   ],
   "metadata": {
    "collapsed": false
   }
  },
  {
   "cell_type": "markdown",
   "source": [
    "> This gave a division by zero error"
   ],
   "metadata": {
    "collapsed": false
   }
  },
  {
   "cell_type": "code",
   "execution_count": 3,
   "outputs": [
    {
     "ename": "AttributeError",
     "evalue": "'Fraction' object has no attribute 'gcd'",
     "output_type": "error",
     "traceback": [
      "\u001B[1;31m---------------------------------------------------------------------------\u001B[0m",
      "\u001B[1;31mAttributeError\u001B[0m                            Traceback (most recent call last)",
      "Cell \u001B[1;32mIn[3], line 19\u001B[0m\n\u001B[0;32m     17\u001B[0m \u001B[38;5;66;03m# simplify the product fraction\u001B[39;00m\n\u001B[0;32m     18\u001B[0m product_fraction \u001B[38;5;241m=\u001B[39m Fraction(num_product, den_product)\n\u001B[1;32m---> 19\u001B[0m simplified_product_fraction \u001B[38;5;241m=\u001B[39m product_fraction \u001B[38;5;241m/\u001B[39m \u001B[43mproduct_fraction\u001B[49m\u001B[38;5;241;43m.\u001B[39;49m\u001B[43mgcd\u001B[49m(num_product, den_product)\n\u001B[0;32m     21\u001B[0m \u001B[38;5;66;03m# print the denominator of the simplified product fraction\u001B[39;00m\n\u001B[0;32m     22\u001B[0m \u001B[38;5;28mprint\u001B[39m(simplified_product_fraction\u001B[38;5;241m.\u001B[39mdenominator)\n",
      "\u001B[1;31mAttributeError\u001B[0m: 'Fraction' object has no attribute 'gcd'"
     ]
    }
   ],
   "source": [
    "from fractions import Fraction\n",
    "\n",
    "# initialize numerator and denominator products\n",
    "num_product = 1\n",
    "den_product = 1\n",
    "\n",
    "# iterate through possible numerators and denominators\n",
    "for numerator in range(10, 100):\n",
    "    for denominator in range(numerator + 1, 100):\n",
    "        # check if the fraction is a curious fraction\n",
    "        if (numerator % 10 == denominator // 10 and denominator % 10 != 0 and\n",
    "            (numerator // 10) / (denominator % 10) == numerator / denominator):\n",
    "            # multiply numerator and denominator products by the fraction\n",
    "            num_product *= numerator\n",
    "            den_product *= denominator\n",
    "\n",
    "# simplify the product fraction\n",
    "product_fraction = Fraction(num_product, den_product)\n",
    "simplified_product_fraction = product_fraction / product_fraction.gcd(num_product, den_product)\n",
    "\n",
    "# print the denominator of the simplified product fraction\n",
    "print(simplified_product_fraction.denominator)"
   ],
   "metadata": {
    "collapsed": false
   }
  },
  {
   "cell_type": "markdown",
   "source": [
    "The greatest common divisor function is deprecated and is now a part of the Math library.\n",
    "\n",
    "> Fraction does not have a gcd function"
   ],
   "metadata": {
    "collapsed": false
   }
  },
  {
   "cell_type": "code",
   "execution_count": 4,
   "outputs": [
    {
     "name": "stdout",
     "output_type": "stream",
     "text": [
      "100\n"
     ]
    }
   ],
   "source": [
    "from fractions import Fraction\n",
    "from math import gcd\n",
    "\n",
    "# initialize numerator and denominator products\n",
    "num_product = 1\n",
    "den_product = 1\n",
    "\n",
    "# iterate through possible numerators and denominators\n",
    "for numerator in range(10, 100):\n",
    "    for denominator in range(numerator + 1, 100):\n",
    "        # check if the fraction is a curious fraction\n",
    "        if (numerator % 10 == denominator // 10 and denominator % 10 != 0 and\n",
    "            (numerator // 10) / (denominator % 10) == numerator / denominator):\n",
    "            # multiply numerator and denominator products by the fraction\n",
    "            num_product *= numerator\n",
    "            den_product *= denominator\n",
    "\n",
    "# simplify the product fraction\n",
    "common_factor = gcd(num_product, den_product)\n",
    "simplified_num_product = num_product // common_factor\n",
    "simplified_den_product = den_product // common_factor\n",
    "simplified_product_fraction = Fraction(simplified_num_product, simplified_den_product)\n",
    "\n",
    "# print the denominator of the simplified product fraction\n",
    "print(simplified_product_fraction.denominator)"
   ],
   "metadata": {
    "collapsed": false
   }
  },
  {
   "cell_type": "markdown",
   "source": [
    "## Correctness"
   ],
   "metadata": {
    "collapsed": false
   }
  },
  {
   "cell_type": "code",
   "execution_count": 5,
   "outputs": [
    {
     "name": "stderr",
     "output_type": "stream",
     "text": [
      "test_chatgpt (__main__.Testing) ... ok\n",
      "test_codex (__main__.Testing) ... ok\n",
      "\n",
      "----------------------------------------------------------------------\n",
      "Ran 2 tests in 0.003s\n",
      "\n",
      "OK\n"
     ]
    },
    {
     "data": {
      "text/plain": "<unittest.main.TestProgram at 0x15a310a5850>"
     },
     "execution_count": 5,
     "metadata": {},
     "output_type": "execute_result"
    }
   ],
   "source": [
    "import unittest\n",
    "import solutions\n",
    "\n",
    "class Testing(unittest.TestCase):\n",
    "\n",
    "    def test_chatgpt(self):\n",
    "        self.assertEqual(simplified_product_fraction.denominator, solutions.p33)\n",
    "\n",
    "    def test_codex(self):\n",
    "        pass\n",
    "\n",
    "unittest.main(argv=[''], verbosity=2, exit=False)"
   ],
   "metadata": {
    "collapsed": false
   }
  },
  {
   "cell_type": "markdown",
   "source": [
    "## Discussion\n",
    "\n",
    "Model produced code with errors for the first time during testing, a simple division by zero error is relatively common and usually quite easy to solve as it was here. Notably, the model was able to identify where the error was without explicitly stating. The second error demonstrates the model trying to use a deprecated function, in this example the function still exists but has been included in another library. This is most likely the more common scenario, as useful functions are seldom removed in their entirety. However, this could provide problems should the model rely on third party libraries which are no longer maintained, or when there are differences in a replacement implementation.\n",
    "\n",
    "Nevertheless, the model was able to come to a correct solution with minimal human prompting."
   ],
   "metadata": {
    "collapsed": false
   }
  }
 ],
 "metadata": {
  "kernelspec": {
   "display_name": "Python 3",
   "language": "python",
   "name": "python3"
  },
  "language_info": {
   "codemirror_mode": {
    "name": "ipython",
    "version": 2
   },
   "file_extension": ".py",
   "mimetype": "text/x-python",
   "name": "python",
   "nbconvert_exporter": "python",
   "pygments_lexer": "ipython2",
   "version": "2.7.6"
  }
 },
 "nbformat": 4,
 "nbformat_minor": 0
}
