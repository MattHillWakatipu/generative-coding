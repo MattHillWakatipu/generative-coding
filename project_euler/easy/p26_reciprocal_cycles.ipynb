{
 "cells": [
  {
   "cell_type": "markdown",
   "source": [
    "# Reciprocal cycles\n",
    "\n",
    "A unit fraction contains 1 in the numerator. The decimal representation of the unit fractions with denominators 2 to 10 are given:\n",
    "\n",
    "1/2\t= \t0.5\n",
    "1/3\t= \t0.(3)\n",
    "1/4\t= \t0.25\n",
    "1/5\t= \t0.2\n",
    "1/6\t= \t0.1(6)\n",
    "1/7\t= \t0.(142857)\n",
    "1/8\t= \t0.125\n",
    "1/9\t= \t0.(1)\n",
    "1/10\t= \t0.1\n",
    "Where 0.1(6) means 0.166666..., and has a 1-digit recurring cycle. It can be seen that 1/7 has a 6-digit recurring cycle.\n",
    "\n",
    "Write a python program to find the value of d < 1000 for which 1/d contains the longest recurring cycle in its decimal fraction part."
   ],
   "metadata": {
    "collapsed": false
   }
  },
  {
   "cell_type": "markdown",
   "source": [
    "## Expected response\n",
    "\n",
    "Iterate through numbers below 1000, calculating the reciprocal and checking for recurring cycles within, storing the longest recurring cycle and the number. For calculating the decimal fractions we could expect a long division approach, or utilizing floating point numbers with very high precision."
   ],
   "metadata": {
    "collapsed": false
   }
  },
  {
   "cell_type": "markdown",
   "source": [
    "## Potential problems\n",
    "\n",
    "Floating point arithmetic is notorious for being imprecise, python's default float only utilizes 64 bits which could mean long recurring strings of numbers are undetected if stored as default floats. Common libraries such as NumPy extend floating point precision up to 96 or 128 bits, but this only extends the range and large cycles will still be outside this precision."
   ],
   "metadata": {
    "collapsed": false
   }
  },
  {
   "cell_type": "markdown",
   "source": [
    "## Results"
   ],
   "metadata": {
    "collapsed": false
   }
  },
  {
   "cell_type": "code",
   "execution_count": 17,
   "outputs": [
    {
     "name": "stdout",
     "output_type": "stream",
     "text": [
      "983\n"
     ]
    }
   ],
   "source": [
    "def find_longest_recurring_cycle():\n",
    "    longest_cycle = 0\n",
    "    d_with_longest_cycle = 0\n",
    "\n",
    "    for d in range(2, 1000):\n",
    "        remainder_dict = {}\n",
    "        remainder = 1\n",
    "\n",
    "        # simulate long division to find the decimal representation of 1/d\n",
    "        while remainder != 0 and remainder not in remainder_dict:\n",
    "            remainder_dict[remainder] = len(remainder_dict)\n",
    "            remainder = (remainder * 10) % d\n",
    "\n",
    "        # check if the cycle length is the longest so far\n",
    "        if remainder != 0:\n",
    "            cycle_length = len(remainder_dict) - remainder_dict[remainder]\n",
    "            if cycle_length > longest_cycle:\n",
    "                longest_cycle = cycle_length\n",
    "                d_with_longest_cycle = d\n",
    "\n",
    "    return d_with_longest_cycle\n",
    "\n",
    "print(find_longest_recurring_cycle())  # output: 983"
   ],
   "metadata": {
    "collapsed": false
   }
  },
  {
   "cell_type": "markdown",
   "source": [
    "## Correctness"
   ],
   "metadata": {
    "collapsed": false
   }
  },
  {
   "cell_type": "code",
   "execution_count": 18,
   "outputs": [
    {
     "name": "stderr",
     "output_type": "stream",
     "text": [
      "test_chatgpt (__main__.Testing) ... ok\n",
      "test_codex (__main__.Testing) ... ok\n",
      "\n",
      "----------------------------------------------------------------------\n",
      "Ran 2 tests in 0.023s\n",
      "\n",
      "OK\n"
     ]
    },
    {
     "data": {
      "text/plain": "<unittest.main.TestProgram at 0x1c215528820>"
     },
     "execution_count": 18,
     "metadata": {},
     "output_type": "execute_result"
    }
   ],
   "source": [
    "import unittest\n",
    "import solutions\n",
    "\n",
    "class Testing(unittest.TestCase):\n",
    "\n",
    "    def test_chatgpt(self):\n",
    "        self.assertEqual(find_longest_recurring_cycle(), solutions.p26)\n",
    "\n",
    "    def test_codex(self):\n",
    "        pass\n",
    "\n",
    "unittest.main(argv=[''], verbosity=2, exit=False)"
   ],
   "metadata": {
    "collapsed": false
   }
  },
  {
   "cell_type": "markdown",
   "source": [
    "## Discussion\n",
    "\n",
    "Model creates a correct solution which simulates long division and keeps track of repeated digits by using a dictionary."
   ],
   "metadata": {
    "collapsed": false
   }
  }
 ],
 "metadata": {
  "kernelspec": {
   "display_name": "Python 3",
   "language": "python",
   "name": "python3"
  },
  "language_info": {
   "codemirror_mode": {
    "name": "ipython",
    "version": 2
   },
   "file_extension": ".py",
   "mimetype": "text/x-python",
   "name": "python",
   "nbconvert_exporter": "python",
   "pygments_lexer": "ipython2",
   "version": "2.7.6"
  }
 },
 "nbformat": 4,
 "nbformat_minor": 0
}
