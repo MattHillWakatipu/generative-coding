{
 "cells": [
  {
   "cell_type": "markdown",
   "source": [
    "# Amicable numbers\n",
    "\n",
    "Let d(n) be defined as the sum of proper divisors of n (numbers less than n which divide evenly into n).\n",
    "If d(a) = b and d(b) = a, where a ≠ b, then a and b are an amicable pair and each of a and b are called amicable numbers.\n",
    "\n",
    "For example, the proper divisors of 220 are 1, 2, 4, 5, 10, 11, 20, 22, 44, 55 and 110; therefore d(220) = 284. The proper divisors of 284 are 1, 2, 4, 71 and 142; so d(284) = 220.\n",
    "\n",
    "Write a python program to evaluate the sum of all the amicable numbers under 10000."
   ],
   "metadata": {
    "collapsed": false
   }
  },
  {
   "cell_type": "markdown",
   "source": [
    "## Expected response\n",
    "\n",
    "Getting the divisors of a number requires integer factorization, of which no efficient algorithm is known but for Shor's algorithm which utilizes quantum computing. Therefore, a function which performs a brute force check of factors is the expected approach for creating a list of proper divisors. Some small optimizations can be made for said function as well, as we need only to check up to the square root of n, and for odd numbers we need only check odd divisors. We could expect to see the first optimization but the second is unlikely.\n",
    "\n",
    "For checking the amicable numbers a range limited loop calculating the sum of proper divisors of each number and checking the paired number will suffice. We would like to avoid recalculating numbers we have already calculated and could do this by storing results in a Map or placing constraints on when we check the second number."
   ],
   "metadata": {
    "collapsed": false
   }
  },
  {
   "cell_type": "markdown",
   "source": [
    "## Potential problems\n",
    "\n",
    "In situations where d(n) = n we should NOT consider them to be amicable as they are not a paired number. Though this is stated in the question with 'where a!=b' it could be overlooked."
   ],
   "metadata": {
    "collapsed": false
   }
  },
  {
   "cell_type": "markdown",
   "source": [
    "## Results"
   ],
   "metadata": {
    "collapsed": false
   }
  },
  {
   "cell_type": "code",
   "execution_count": 5,
   "outputs": [
    {
     "name": "stdout",
     "output_type": "stream",
     "text": [
      "31626\n"
     ]
    }
   ],
   "source": [
    "def proper_divisors(n):\n",
    "    \"\"\"Return a list of the proper divisors of n.\"\"\"\n",
    "    divisors = []\n",
    "    for i in range(1, n):\n",
    "        if n % i == 0:\n",
    "            divisors.append(i)\n",
    "    return divisors\n",
    "\n",
    "def d(n):\n",
    "    \"\"\"Return the sum of the proper divisors of n.\"\"\"\n",
    "    return sum(proper_divisors(n))\n",
    "\n",
    "# Find all amicable numbers under 10000\n",
    "amicable_numbers = set()\n",
    "for a in range(1, 10000):\n",
    "    b = d(a)\n",
    "    if a != b and d(b) == a:\n",
    "        amicable_numbers.add(a)\n",
    "        amicable_numbers.add(b)\n",
    "\n",
    "# Compute the sum of the amicable numbers\n",
    "sum_of_amicable_numbers = sum(amicable_numbers)\n",
    "\n",
    "print(sum_of_amicable_numbers)\n"
   ],
   "metadata": {
    "collapsed": false
   }
  },
  {
   "cell_type": "markdown",
   "source": [
    "## Correctness"
   ],
   "metadata": {
    "collapsed": false
   }
  },
  {
   "cell_type": "code",
   "execution_count": 3,
   "outputs": [
    {
     "name": "stderr",
     "output_type": "stream",
     "text": [
      "test_chatgpt (__main__.Testing) ... ok\n",
      "test_codex (__main__.Testing) ... ok\n",
      "\n",
      "----------------------------------------------------------------------\n",
      "Ran 2 tests in 0.003s\n",
      "\n",
      "OK\n"
     ]
    },
    {
     "data": {
      "text/plain": "<unittest.main.TestProgram at 0x1ea633ea940>"
     },
     "execution_count": 3,
     "metadata": {},
     "output_type": "execute_result"
    }
   ],
   "source": [
    "import unittest\n",
    "import solutions\n",
    "\n",
    "class Testing(unittest.TestCase):\n",
    "\n",
    "    def test_chatgpt(self):\n",
    "        self.assertEqual(sum_of_amicable_numbers, solutions.p21)\n",
    "\n",
    "    def test_codex(self):\n",
    "        pass\n",
    "\n",
    "unittest.main(argv=[''], verbosity=2, exit=False)"
   ],
   "metadata": {
    "collapsed": false
   }
  },
  {
   "cell_type": "markdown",
   "source": [
    "## Discussion\n",
    "\n",
    "The model creates a correct solution however does not have any optimizations present for either calculating the divisor list, or preventing re-calculations. The program still completes relatively quickly (within 5 seconds)."
   ],
   "metadata": {
    "collapsed": false
   }
  }
 ],
 "metadata": {
  "kernelspec": {
   "display_name": "Python 3",
   "language": "python",
   "name": "python3"
  },
  "language_info": {
   "codemirror_mode": {
    "name": "ipython",
    "version": 2
   },
   "file_extension": ".py",
   "mimetype": "text/x-python",
   "name": "python",
   "nbconvert_exporter": "python",
   "pygments_lexer": "ipython2",
   "version": "2.7.6"
  }
 },
 "nbformat": 4,
 "nbformat_minor": 0
}
