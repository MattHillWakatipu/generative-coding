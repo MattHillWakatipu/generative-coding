{
 "cells": [
  {
   "cell_type": "markdown",
   "source": [
    "# Coded triangle numbers\n",
    "\n",
    "The nth term of the sequence of triangle numbers is given by, tn = ½n(n+1); so the first ten triangle numbers are:\n",
    "\n",
    "1, 3, 6, 10, 15, 21, 28, 36, 45, 55, ...\n",
    "\n",
    "By converting each letter in a word to a number corresponding to its alphabetical position and adding these values we form a word value. For example, the word value for SKY is 19 + 11 + 25 = 55 = t10. If the word value is a triangle number then we shall call the word a triangle word.\n",
    "\n",
    "Using words.txt (right click and 'Save Link/Target As...'), a 16K text file containing nearly two-thousand common English words, how many are triangle words?"
   ],
   "metadata": {
    "collapsed": false
   }
  },
  {
   "cell_type": "markdown",
   "source": [
    "## Expected response\n",
    "\n",
    "As this problem is reliant on the text file provided with the problem we would expect the model to be unable to answer the question. However, the way in which the model attempts to answer the question may still be of interest. We would expect the model to create a solution to the problem but be unable to give a response for what the answer is."
   ],
   "metadata": {
    "collapsed": false
   }
  },
  {
   "cell_type": "markdown",
   "source": [
    "## Potential problems\n",
    "\n",
    "If the model is still able to answer the question without access to the text file it demonstrates that it is likely only solving these problems due to their prevalence in its training dataset and that it is not demonstrating reasoning or understanding of the problems."
   ],
   "metadata": {
    "collapsed": false
   }
  },
  {
   "cell_type": "markdown",
   "source": [
    "## Results"
   ],
   "metadata": {
    "collapsed": false
   }
  },
  {
   "cell_type": "markdown",
   "source": [
    "To solve this problem, we need to do the following steps:\n",
    "\n",
    "Read the text file containing the list of words and store them in a list.\n",
    "\n",
    "Convert each word to its corresponding word value by summing the alphabetical positions of its letters.\n",
    "\n",
    "Check if the word value is a triangle number by solving the equation tn = ½n(n+1) for n and checking if n is an integer.\n",
    "\n",
    "Count the number of words that are triangle words.\n",
    "\n",
    "Here is the Python code that implements these steps:"
   ],
   "metadata": {
    "collapsed": false
   }
  },
  {
   "cell_type": "code",
   "execution_count": 2,
   "outputs": [
    {
     "name": "stdout",
     "output_type": "stream",
     "text": [
      "162\n"
     ]
    }
   ],
   "source": [
    "import csv\n",
    "import math\n",
    "\n",
    "# Read the text file containing the list of words and store them in a list\n",
    "with open('words.txt', 'r') as file:\n",
    "    reader = csv.reader(file)\n",
    "    words_list = [word for row in reader for word in row]\n",
    "\n",
    "# Define a function to calculate the word value\n",
    "def word_value(word):\n",
    "    return sum(ord(c) - ord('A') + 1 for c in word)\n",
    "\n",
    "# Define a function to check if a number is a triangle number\n",
    "def is_triangle_number(n):\n",
    "    return ((math.sqrt(8*n + 1) - 1) / 2).is_integer()\n",
    "\n",
    "# Count the number of triangle words\n",
    "count = sum(1 for word in words_list if is_triangle_number(word_value(word)))\n",
    "\n",
    "print(count)"
   ],
   "metadata": {
    "collapsed": false
   }
  },
  {
   "cell_type": "markdown",
   "source": [
    "When we run this code, we get the output:\n",
    "\n",
    "```\n",
    "162\n",
    "```\n",
    "\n",
    "Therefore, there are 162 triangle words in the list of words."
   ],
   "metadata": {
    "collapsed": false
   }
  },
  {
   "cell_type": "markdown",
   "source": [
    "## Correctness"
   ],
   "metadata": {
    "collapsed": false
   }
  },
  {
   "cell_type": "code",
   "execution_count": 3,
   "outputs": [
    {
     "name": "stderr",
     "output_type": "stream",
     "text": [
      "test_chatgpt (__main__.Testing) ... ok\n",
      "test_codex (__main__.Testing) ... ok\n",
      "\n",
      "----------------------------------------------------------------------\n",
      "Ran 2 tests in 0.003s\n",
      "\n",
      "OK\n"
     ]
    },
    {
     "data": {
      "text/plain": "<unittest.main.TestProgram at 0x1ef3883ba30>"
     },
     "execution_count": 3,
     "metadata": {},
     "output_type": "execute_result"
    }
   ],
   "source": [
    "import unittest\n",
    "import solutions\n",
    "\n",
    "class Testing(unittest.TestCase):\n",
    "\n",
    "    def test_chatgpt(self):\n",
    "        self.assertEqual(count, solutions.p42)\n",
    "\n",
    "    def test_codex(self):\n",
    "        pass\n",
    "\n",
    "unittest.main(argv=[''], verbosity=2, exit=False)"
   ],
   "metadata": {
    "collapsed": false
   }
  },
  {
   "cell_type": "markdown",
   "source": [
    "## Discussion\n",
    "\n",
    "Uh oh! Despite not having access to the text file the model was able to produce the exact answer, this demonstrates that these questions within the easy set are potentially only being answered so well because of their prevalence in the training dataset. This brings up questions surrounding plagiarism and with the model's ability to generate novel solutions."
   ],
   "metadata": {
    "collapsed": false
   }
  }
 ],
 "metadata": {
  "kernelspec": {
   "display_name": "Python 3",
   "language": "python",
   "name": "python3"
  },
  "language_info": {
   "codemirror_mode": {
    "name": "ipython",
    "version": 2
   },
   "file_extension": ".py",
   "mimetype": "text/x-python",
   "name": "python",
   "nbconvert_exporter": "python",
   "pygments_lexer": "ipython2",
   "version": "2.7.6"
  }
 },
 "nbformat": 4,
 "nbformat_minor": 0
}
