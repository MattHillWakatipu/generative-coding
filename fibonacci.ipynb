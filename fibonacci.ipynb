{
 "cells": [
  {
   "cell_type": "markdown",
   "source": [
    "# Comparison of coding capabilities of the general model ChatGPT with Codex."
   ],
   "metadata": {
    "collapsed": false
   }
  },
  {
   "cell_type": "markdown",
   "source": [
    "## The problem\n",
    "\n",
    "The problem specified is to print the first 10 digits of the Fibonacci sequence https://oeis.org/A000045.\n",
    "\n",
    "The fibonacci sequence is constructed via the following formula\n",
    "\n",
    "F(n) = F(n-1) + F(n-2) with F(0) = 0 and F(1) = 1"
   ],
   "metadata": {
    "collapsed": false
   }
  },
  {
   "cell_type": "markdown",
   "source": [
    "## Why Fibonacci\n",
    "\n",
    "The fibonacci sequence is a common bite sized programming challenge which is often used to demonstrate how to utilise recursion to simplify problems. There are a plethora of tutorials online demonstrating how to complete this challenge and thus is assuredly within the models training dataset.\n",
    "\n",
    "The problem demonstrates the following;\n",
    "\n",
    "- ability to reproduce solutions to problems within the training dataset.\n",
    "- ability to refactor code to utilise a different approach\n",
    "-"
   ],
   "metadata": {
    "collapsed": false
   }
  },
  {
   "cell_type": "markdown",
   "source": [
    "## The Query\n",
    "\n",
    "*Write me a python function which calculates the nth number of the fibonacci sequence*\n",
    "\n",
    "Depending on the type of solution provided followed by either\n",
    "\n",
    "*refactor this into a recursive solution* or *refactor this into an iterative solution*"
   ],
   "metadata": {
    "collapsed": false
   }
  },
  {
   "cell_type": "markdown",
   "source": [
    "## Expected solution\n",
    "\n",
    "The program should output the following digits\n",
    "\n",
    "0, 1, 1, 2, 3, 5, 8, 13, 21, 34, 55"
   ],
   "metadata": {
    "collapsed": false
   }
  },
  {
   "cell_type": "markdown",
   "source": [
    "## Potential pitfalls\n",
    "\n",
    "Naive solution by printing the hard coded numbers instead of creating a function.\n",
    "Some authors begin the sequence with 1 and 1 instead of the commonly accepted 0 and 1.\n"
   ],
   "metadata": {
    "collapsed": false
   }
  },
  {
   "cell_type": "markdown",
   "source": [
    "## Tests\n",
    "\n",
    "Note: run the cell which initialises the fibonacci function ready for testing first"
   ],
   "metadata": {
    "collapsed": false
   }
  },
  {
   "cell_type": "code",
   "execution_count": null,
   "outputs": [],
   "source": [
    "import time\n",
    "import unittest\n",
    "\n",
    "class TestSuite(unittest.TestCase):\n",
    "\n",
    "    def test_base_case_f0(self):\n",
    "        self.assertEqual(fibonacci(0), 0)\n",
    "\n",
    "    def test_base_case_f1(self):\n",
    "        self.assertEqual(fibonacci(1), 1)\n",
    "\n",
    "    # def test_negative_input(self):\n",
    "    #     self.assertEqual(fibonacci(-2), -1)\n",
    "\n",
    "    def test_2_to_10(self):\n",
    "        self.assertEqual(fibonacci(2), 1)\n",
    "        self.assertEqual(fibonacci(3), 2)\n",
    "        self.assertEqual(fibonacci(4), 3)\n",
    "        self.assertEqual(fibonacci(5), 5)\n",
    "        self.assertEqual(fibonacci(6), 8)\n",
    "        self.assertEqual(fibonacci(7), 13)\n",
    "        self.assertEqual(fibonacci(8), 21)\n",
    "        self.assertEqual(fibonacci(9), 34)\n",
    "        self.assertEqual(fibonacci(10), 55)\n",
    "\n",
    "    def test_big(self):\n",
    "        self.assertEqual(fibonacci(40), 102334155)\n",
    "\n",
    "unittest.main(argv=[''], verbosity=2, exit=False)"
   ],
   "metadata": {
    "collapsed": false
   }
  },
  {
   "cell_type": "markdown",
   "source": [
    "# Codex solution"
   ],
   "metadata": {
    "collapsed": false
   }
  },
  {
   "cell_type": "code",
   "execution_count": null,
   "outputs": [],
   "source": [
    "def fibonacci(n):\n",
    "    if n == 0:\n",
    "        return 0\n",
    "    elif n == 1:\n",
    "        return 1\n",
    "    else:\n",
    "        return fibonacci(n-1) + fibonacci(n-2)\n",
    "\n",
    "print(fibonacci(10))"
   ],
   "metadata": {
    "collapsed": false
   }
  },
  {
   "cell_type": "markdown",
   "source": [
    "## Discussion\n",
    "\n",
    "- Utilises the standard recursive method of generating the fibonacci sequence.\n",
    "- Provides no handling for negative numbers.\n",
    "- No handling of non-integer numbers\n",
    "- Prints a test case\n",
    "- Takes over 30 seconds to calculate f(40) due to O(2^n) time complexity"
   ],
   "metadata": {
    "collapsed": false
   }
  },
  {
   "cell_type": "markdown",
   "source": [],
   "metadata": {
    "collapsed": false
   }
  },
  {
   "cell_type": "code",
   "execution_count": null,
   "outputs": [],
   "source": [
    "def fibonacci(n):\n",
    "    if n == 0:\n",
    "        return 0\n",
    "    elif n == 1:\n",
    "        return 1\n",
    "    else:\n",
    "        return fibonacci(n-1) + fibonacci(n-2)\n",
    "\n",
    "def fibonacci_dp(n):\n",
    "    if n == 0:\n",
    "        return 0\n",
    "    elif n == 1:\n",
    "        return 1\n",
    "    else:\n",
    "        fib_list = [0, 1]\n",
    "        for i in range(2, n+1):\n",
    "            fib_list.append(fib_list[i-1] + fib_list[i-2])\n",
    "        return fib_list[n]"
   ],
   "metadata": {
    "collapsed": false
   }
  },
  {
   "cell_type": "markdown",
   "source": [
    "# ChatGPT solution"
   ],
   "metadata": {
    "collapsed": false
   }
  },
  {
   "cell_type": "markdown",
   "source": [
    "Here is a Python function that calculates the nth number of the Fibonacci sequence:"
   ],
   "metadata": {
    "collapsed": false
   }
  },
  {
   "cell_type": "code",
   "execution_count": null,
   "outputs": [],
   "source": [
    "def fibonacci(n):\n",
    "    if n == 0:\n",
    "        return 0\n",
    "    elif n == 1:\n",
    "        return 1\n",
    "    else:\n",
    "        return fibonacci(n-1) + fibonacci(n-2)"
   ],
   "metadata": {
    "collapsed": false
   }
  },
  {
   "cell_type": "markdown",
   "source": [
    "This function uses recursion to calculate the Fibonacci number. It first checks if the input is 0 or 1, and returns 0 or 1 respectively. If the input is greater than 1, it calls itself twice with the input decremented by 1 and 2, and adds the results together to get the Fibonacci number.\n",
    "\n",
    "You can test the function with different inputs like this:"
   ],
   "metadata": {
    "collapsed": false
   }
  },
  {
   "cell_type": "code",
   "execution_count": null,
   "outputs": [],
   "source": [
    "print(fibonacci(0))\n",
    "print(fibonacci(1))\n",
    "print(fibonacci(2))\n",
    "print(fibonacci(3))\n",
    "print(fibonacci(4))"
   ],
   "metadata": {
    "collapsed": false
   }
  },
  {
   "cell_type": "markdown",
   "source": [
    "You will see that the output is 0,1,1,2,3 respectively\n",
    "\n",
    "Please note that above implementation is not efficient, as it recalculates the same fibonacci number multiple times. You can use Dynamic programming approach to improve the performance."
   ],
   "metadata": {
    "collapsed": false
   }
  },
  {
   "cell_type": "markdown",
   "source": [
    "## Discussion\n",
    "\n",
    "- Provides the same implementation as Codex but with explanation and suggestion for improvement\n",
    "- Correctly assesses that the implementation is not efficient and can be improved by utilising a different approach."
   ],
   "metadata": {
    "collapsed": false
   }
  },
  {
   "cell_type": "markdown",
   "source": [
    "## Dynamic programming approach\n",
    "\n",
    "Following ChatGPT's suggestion we ask it to *Rewrite this using dynamic programming* and recieve the response"
   ],
   "metadata": {
    "collapsed": false
   }
  },
  {
   "cell_type": "code",
   "execution_count": null,
   "outputs": [],
   "source": [
    "def fibonacci(n):\n",
    "    if n == 0:\n",
    "        return 0\n",
    "    elif n == 1:\n",
    "        return 1\n",
    "    else:\n",
    "        fib_list = [0,1]\n",
    "        for i in range(2,n+1):\n",
    "            fib_list.append(fib_list[i-1]+fib_list[i-2])\n",
    "        return fib_list[n]"
   ],
   "metadata": {
    "collapsed": false
   }
  },
  {
   "cell_type": "markdown",
   "source": [
    "In this version, we use an array fib_list to store the already calculated Fibonacci numbers. It starts with the base cases of 0 and 1. Then, in a loop, it calculates each subsequent Fibonacci number by adding the previous two numbers in the array and appending the result to the array. Finally, it returns the nth Fibonacci number stored in the array. This implementation avoids recalculating already calculated Fibonacci numbers, making it much more efficient than the previous implementation.\n",
    "\n",
    "You can test the function with the same test cases as before and you will see that the output is the same and the time complexity is improved"
   ],
   "metadata": {
    "collapsed": false
   }
  },
  {
   "cell_type": "markdown",
   "source": [
    "*What is the time complexity of the original implementation and the dynamic programming implementation*\n",
    "\n",
    "The time complexity of the original implementation, which uses recursion, is O(2^n), which is exponential. This is because in the worst case scenario, it makes two recursive calls for each call, and it takes 2^n calls to calculate the nth Fibonacci number. This makes the original implementation highly inefficient for larger values of n.\n",
    "\n",
    "The dynamic programming implementation, on the other hand, has a time complexity of O(n). This is because it uses a loop to calculate each Fibonacci number, and the loop runs n times. Each iteration of the loop takes constant time, so the overall time complexity is linear.\n",
    "\n",
    "The space complexity of the dynamic programming implementation is O(n) as well, because it uses an array to store n Fibonacci numbers and the size of the array is n.\n",
    "\n",
    "So the dynamic programming implementation is much more efficient than the original implementation, both in terms of time and space complexity."
   ],
   "metadata": {
    "collapsed": false
   }
  },
  {
   "cell_type": "markdown",
   "source": [
    "## Discussion\n",
    "\n",
    "- Vastly improves the time complexity of the original implementation with the dynamic programming approach\n",
    "- Correctly identifies the time complexity of both algorithms"
   ],
   "metadata": {
    "collapsed": false
   }
  },
  {
   "cell_type": "markdown",
   "source": [],
   "metadata": {
    "collapsed": false
   }
  }
 ],
 "metadata": {
  "kernelspec": {
   "display_name": "Python 3",
   "language": "python",
   "name": "python3"
  },
  "language_info": {
   "codemirror_mode": {
    "name": "ipython",
    "version": 2
   },
   "file_extension": ".py",
   "mimetype": "text/x-python",
   "name": "python",
   "nbconvert_exporter": "python",
   "pygments_lexer": "ipython2",
   "version": "2.7.6"
  }
 },
 "nbformat": 4,
 "nbformat_minor": 0
}
