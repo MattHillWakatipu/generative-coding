{
 "cells": [
  {
   "cell_type": "markdown",
   "source": [
    "# Comparison of coding capabilities of the general model ChatGPT with Codex."
   ],
   "metadata": {
    "collapsed": false
   }
  },
  {
   "cell_type": "markdown",
   "source": [
    "## The problem\n",
    "\n",
    "The problem specified is to print the first 10 digits of the Fibonacci sequence https://oeis.org/A000045.\n",
    "\n",
    "The fibonacci sequence is constructed via the following formula\n",
    "\n",
    "F(n) = F(n-1) + F(n-2) with F(0) = 0 and F(1) = 1"
   ],
   "metadata": {
    "collapsed": false
   }
  },
  {
   "cell_type": "markdown",
   "source": [
    "## Why Fibonacci\n",
    "\n",
    "The fibonacci sequence is a common bite sized programming challenge which is often used to demonstrate how to utilise recursion to simplify problems. There are a plethora of tutorials online demonstrating how to complete this challenge and thus is assuredly within the models training dataset.\n",
    "\n",
    "The problem demonstrates the following;\n",
    "\n",
    "- ability to reproduce solutions to problems within the training dataset.\n",
    "- ability to refactor code to utilise a different approach\n",
    "-"
   ],
   "metadata": {
    "collapsed": false
   }
  },
  {
   "cell_type": "markdown",
   "source": [
    "## The Query\n",
    "\n",
    "*Write me a python function which calculates the nth number of the fibonacci sequence*\n",
    "\n",
    "Depending on the type of solution provided followed by either\n",
    "\n",
    "*refactor this into a recursive solution* or *refactor this into an iterative solution*"
   ],
   "metadata": {
    "collapsed": false
   }
  },
  {
   "cell_type": "markdown",
   "source": [
    "## Expected solution\n",
    "\n",
    "The program should output the following digits\n",
    "\n",
    "0, 1, 1, 2, 3, 5, 8, 13, 21, 34, 55"
   ],
   "metadata": {
    "collapsed": false
   }
  },
  {
   "cell_type": "markdown",
   "source": [
    "## Potential pitfalls\n",
    "\n",
    "Naive solution by printing the hard coded numbers instead of creating a function.\n",
    "Some authors begin the sequence with 1 and 1 instead of the commonly accepted 0 and 1.\n"
   ],
   "metadata": {
    "collapsed": false
   }
  },
  {
   "cell_type": "markdown",
   "source": [
    "## Tests\n",
    "\n",
    "Note: run the cell which initialises the fibonacci function ready for testing first"
   ],
   "metadata": {
    "collapsed": false
   }
  },
  {
   "cell_type": "code",
   "execution_count": null,
   "outputs": [
    {
     "name": "stderr",
     "output_type": "stream",
     "text": [
      "test_2_to_10 (__main__.TestSuite) ... ok\n",
      "test_base_case_f0 (__main__.TestSuite) ... ERROR\n",
      "test_base_case_f1 (__main__.TestSuite) ... ok\n",
      "test_big (__main__.TestSuite) ... ok\n",
      "test_negative_input (__main__.TestSuite) ... "
     ]
    }
   ],
   "source": [
    "import unittest\n",
    "\n",
    "class TestSuite(unittest.TestCase):\n",
    "\n",
    "    def test_base_case_f0(self, func):\n",
    "        self.assertEqual(func(0), 0)\n",
    "\n",
    "    def test_base_case_f1(self):\n",
    "        self.assertEqual(fibonacci(1), 1)\n",
    "\n",
    "    # def test_negative_input(self):\n",
    "    #     self.assertEqual(fibonacci(-2), -1)\n",
    "\n",
    "    def test_2_to_10(self):\n",
    "        self.assertEqual(fibonacci(2), 1)\n",
    "        self.assertEqual(fibonacci(3), 2)\n",
    "        self.assertEqual(fibonacci(4), 3)\n",
    "        self.assertEqual(fibonacci(5), 5)\n",
    "        self.assertEqual(fibonacci(6), 8)\n",
    "        self.assertEqual(fibonacci(7), 13)\n",
    "        self.assertEqual(fibonacci(8), 21)\n",
    "        self.assertEqual(fibonacci(9), 34)\n",
    "        self.assertEqual(fibonacci(10), 55)\n",
    "\n",
    "    # def test_big(self):\n",
    "    #     self.assertEqual(fibonacci(40), 102334155)\n",
    "\n",
    "unittest.main(argv=[''], verbosity=2, exit=False)"
   ],
   "metadata": {
    "collapsed": false
   }
  },
  {
   "cell_type": "markdown",
   "source": [
    "# Codex solution"
   ],
   "metadata": {
    "collapsed": false
   }
  },
  {
   "cell_type": "code",
   "execution_count": 3,
   "outputs": [
    {
     "name": "stdout",
     "output_type": "stream",
     "text": [
      "55\n"
     ]
    }
   ],
   "source": [
    "def fibonacci(n):\n",
    "    if n == 0:\n",
    "        return 0\n",
    "    elif n == 1:\n",
    "        return 1\n",
    "    else:\n",
    "        return fibonacci(n-1) + fibonacci(n-2)\n",
    "\n",
    "print(fibonacci(10))"
   ],
   "metadata": {
    "collapsed": false
   }
  },
  {
   "cell_type": "markdown",
   "source": [
    "## Discussion\n",
    "\n",
    "- Utilises the standard recursive method of generating the fibonacci sequence.\n",
    "- Provides no handling for negative numbers.\n",
    "- No handling of non-integer numbers\n",
    "- Prints a test case randomly\n",
    "-"
   ],
   "metadata": {
    "collapsed": false
   }
  },
  {
   "cell_type": "markdown",
   "source": [
    "# ChatGPT solution"
   ],
   "metadata": {
    "collapsed": false
   }
  },
  {
   "cell_type": "code",
   "execution_count": null,
   "outputs": [],
   "source": [],
   "metadata": {
    "collapsed": false
   }
  }
 ],
 "metadata": {
  "kernelspec": {
   "display_name": "Python 3",
   "language": "python",
   "name": "python3"
  },
  "language_info": {
   "codemirror_mode": {
    "name": "ipython",
    "version": 2
   },
   "file_extension": ".py",
   "mimetype": "text/x-python",
   "name": "python",
   "nbconvert_exporter": "python",
   "pygments_lexer": "ipython2",
   "version": "2.7.6"
  }
 },
 "nbformat": 4,
 "nbformat_minor": 0
}
